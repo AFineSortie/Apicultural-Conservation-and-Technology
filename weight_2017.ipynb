{
 "cells": [
  {
   "cell_type": "code",
   "execution_count": 1,
   "id": "dd6f60fb-5079-4120-a7ee-415d7a9cb706",
   "metadata": {},
   "outputs": [],
   "source": [
    "import numpy as np\n",
    "import csv\n",
    "import matplotlib.pyplot as plt\n",
    "from scipy.stats import mode\n",
    "import pandas as pd\n",
    "import seaborn as sns\n",
    "from io import StringIO\n",
    "import requests\n",
    "import json\n",
    "from sklearn.preprocessing import StandardScaler  # For scaling dataset\n",
    "from sklearn.cluster import KMeans, AgglomerativeClustering, AffinityPropagation #For clustering\n",
    "from sklearn.mixture import GaussianMixture\n",
    "%matplotlib inline"
   ]
  },
  {
   "cell_type": "code",
   "execution_count": 2,
   "id": "cdaa6f82-a26f-49fd-97b3-20089e7f92a7",
   "metadata": {},
   "outputs": [
    {
     "data": {
      "text/html": [
       "<div>\n",
       "<style scoped>\n",
       "    .dataframe tbody tr th:only-of-type {\n",
       "        vertical-align: middle;\n",
       "    }\n",
       "\n",
       "    .dataframe tbody tr th {\n",
       "        vertical-align: top;\n",
       "    }\n",
       "\n",
       "    .dataframe thead th {\n",
       "        text-align: right;\n",
       "    }\n",
       "</style>\n",
       "<table border=\"1\" class=\"dataframe\">\n",
       "  <thead>\n",
       "    <tr style=\"text-align: right;\">\n",
       "      <th></th>\n",
       "      <th>timestamp</th>\n",
       "      <th>weight</th>\n",
       "    </tr>\n",
       "  </thead>\n",
       "  <tbody>\n",
       "    <tr>\n",
       "      <th>0</th>\n",
       "      <td>2017-01-01 05:15:00</td>\n",
       "      <td>52.6974</td>\n",
       "    </tr>\n",
       "    <tr>\n",
       "      <th>1</th>\n",
       "      <td>2017-01-01 05:16:00</td>\n",
       "      <td>52.6974</td>\n",
       "    </tr>\n",
       "    <tr>\n",
       "      <th>2</th>\n",
       "      <td>2017-01-01 05:17:00</td>\n",
       "      <td>52.6974</td>\n",
       "    </tr>\n",
       "    <tr>\n",
       "      <th>3</th>\n",
       "      <td>2017-01-01 05:18:00</td>\n",
       "      <td>52.6974</td>\n",
       "    </tr>\n",
       "    <tr>\n",
       "      <th>4</th>\n",
       "      <td>2017-01-01 05:19:00</td>\n",
       "      <td>52.6973</td>\n",
       "    </tr>\n",
       "  </tbody>\n",
       "</table>\n",
       "</div>"
      ],
      "text/plain": [
       "             timestamp   weight\n",
       "0  2017-01-01 05:15:00  52.6974\n",
       "1  2017-01-01 05:16:00  52.6974\n",
       "2  2017-01-01 05:17:00  52.6974\n",
       "3  2017-01-01 05:18:00  52.6974\n",
       "4  2017-01-01 05:19:00  52.6973"
      ]
     },
     "execution_count": 2,
     "metadata": {},
     "output_type": "execute_result"
    }
   ],
   "source": [
    "df = pd.read_csv('Beehive Metrics Dataset/weight_wurzburg.csv')\n",
    "df.head()"
   ]
  },
  {
   "cell_type": "code",
   "execution_count": 3,
   "id": "919e6067-8966-4bca-adee-3df7413adfe5",
   "metadata": {},
   "outputs": [
    {
     "data": {
      "text/plain": [
       "1035861"
      ]
     },
     "execution_count": 3,
     "metadata": {},
     "output_type": "execute_result"
    }
   ],
   "source": [
    "#How many rows?\n",
    "len(df.index)"
   ]
  },
  {
   "cell_type": "code",
   "execution_count": 4,
   "id": "0f3be8cd-635a-4c79-9a21-84556925c528",
   "metadata": {},
   "outputs": [
    {
     "name": "stdout",
     "output_type": "stream",
     "text": [
      "<class 'pandas.core.frame.DataFrame'>\n",
      "RangeIndex: 1035861 entries, 0 to 1035860\n",
      "Data columns (total 2 columns):\n",
      " #   Column     Non-Null Count    Dtype  \n",
      "---  ------     --------------    -----  \n",
      " 0   timestamp  1035861 non-null  object \n",
      " 1   weight     1035861 non-null  float64\n",
      "dtypes: float64(1), object(1)\n",
      "memory usage: 11.9+ MB\n"
     ]
    }
   ],
   "source": [
    "df.info()"
   ]
  },
  {
   "cell_type": "code",
   "execution_count": 5,
   "id": "47c9fe76-a492-4b15-9907-748562f177bb",
   "metadata": {},
   "outputs": [],
   "source": [
    "#Change the timestamp field to a datetime data type\n",
    "df['timestamp'] = pd.to_datetime(df['timestamp'])"
   ]
  },
  {
   "cell_type": "code",
   "execution_count": 6,
   "id": "e6945c0d-9f1a-4db8-9544-1101c826e519",
   "metadata": {},
   "outputs": [
    {
     "name": "stdout",
     "output_type": "stream",
     "text": [
      "<class 'pandas.core.frame.DataFrame'>\n",
      "RangeIndex: 1035861 entries, 0 to 1035860\n",
      "Data columns (total 2 columns):\n",
      " #   Column     Non-Null Count    Dtype         \n",
      "---  ------     --------------    -----         \n",
      " 0   timestamp  1035861 non-null  datetime64[ns]\n",
      " 1   weight     1035861 non-null  float64       \n",
      "dtypes: datetime64[ns](1), float64(1)\n",
      "memory usage: 15.8 MB\n"
     ]
    }
   ],
   "source": [
    "#Print the info again to ensure the data type was changed successfully\n",
    "df.info()"
   ]
  },
  {
   "cell_type": "code",
   "execution_count": 7,
   "id": "767fbf33-df13-45fa-9d87-2496b06c7d06",
   "metadata": {},
   "outputs": [
    {
     "data": {
      "text/html": [
       "<div>\n",
       "<style scoped>\n",
       "    .dataframe tbody tr th:only-of-type {\n",
       "        vertical-align: middle;\n",
       "    }\n",
       "\n",
       "    .dataframe tbody tr th {\n",
       "        vertical-align: top;\n",
       "    }\n",
       "\n",
       "    .dataframe thead th {\n",
       "        text-align: right;\n",
       "    }\n",
       "</style>\n",
       "<table border=\"1\" class=\"dataframe\">\n",
       "  <thead>\n",
       "    <tr style=\"text-align: right;\">\n",
       "      <th></th>\n",
       "      <th>timestamp</th>\n",
       "      <th>weight</th>\n",
       "    </tr>\n",
       "  </thead>\n",
       "  <tbody>\n",
       "    <tr>\n",
       "      <th>0</th>\n",
       "      <td>2017-01-01 05:15:00</td>\n",
       "      <td>52.6974</td>\n",
       "    </tr>\n",
       "    <tr>\n",
       "      <th>1</th>\n",
       "      <td>2017-01-01 05:16:00</td>\n",
       "      <td>52.6974</td>\n",
       "    </tr>\n",
       "    <tr>\n",
       "      <th>2</th>\n",
       "      <td>2017-01-01 05:17:00</td>\n",
       "      <td>52.6974</td>\n",
       "    </tr>\n",
       "    <tr>\n",
       "      <th>3</th>\n",
       "      <td>2017-01-01 05:18:00</td>\n",
       "      <td>52.6974</td>\n",
       "    </tr>\n",
       "    <tr>\n",
       "      <th>4</th>\n",
       "      <td>2017-01-01 05:19:00</td>\n",
       "      <td>52.6973</td>\n",
       "    </tr>\n",
       "  </tbody>\n",
       "</table>\n",
       "</div>"
      ],
      "text/plain": [
       "            timestamp   weight\n",
       "0 2017-01-01 05:15:00  52.6974\n",
       "1 2017-01-01 05:16:00  52.6974\n",
       "2 2017-01-01 05:17:00  52.6974\n",
       "3 2017-01-01 05:18:00  52.6974\n",
       "4 2017-01-01 05:19:00  52.6973"
      ]
     },
     "execution_count": 7,
     "metadata": {},
     "output_type": "execute_result"
    }
   ],
   "source": [
    "#Show some data again to ensure that the timestamps didn't get messed up\n",
    "df.head()"
   ]
  },
  {
   "cell_type": "code",
   "execution_count": 8,
   "id": "9a54ffe2-b3a2-4aad-90ac-3fc8d1aba66a",
   "metadata": {},
   "outputs": [
    {
     "data": {
      "text/html": [
       "<div>\n",
       "<style scoped>\n",
       "    .dataframe tbody tr th:only-of-type {\n",
       "        vertical-align: middle;\n",
       "    }\n",
       "\n",
       "    .dataframe tbody tr th {\n",
       "        vertical-align: top;\n",
       "    }\n",
       "\n",
       "    .dataframe thead th {\n",
       "        text-align: right;\n",
       "    }\n",
       "</style>\n",
       "<table border=\"1\" class=\"dataframe\">\n",
       "  <thead>\n",
       "    <tr style=\"text-align: right;\">\n",
       "      <th></th>\n",
       "      <th>weight</th>\n",
       "    </tr>\n",
       "  </thead>\n",
       "  <tbody>\n",
       "    <tr>\n",
       "      <th>count</th>\n",
       "      <td>1.035861e+06</td>\n",
       "    </tr>\n",
       "    <tr>\n",
       "      <th>mean</th>\n",
       "      <td>5.360558e+01</td>\n",
       "    </tr>\n",
       "    <tr>\n",
       "      <th>std</th>\n",
       "      <td>9.123796e+00</td>\n",
       "    </tr>\n",
       "    <tr>\n",
       "      <th>min</th>\n",
       "      <td>-1.480690e-01</td>\n",
       "    </tr>\n",
       "    <tr>\n",
       "      <th>25%</th>\n",
       "      <td>5.077670e+01</td>\n",
       "    </tr>\n",
       "    <tr>\n",
       "      <th>50%</th>\n",
       "      <td>5.365740e+01</td>\n",
       "    </tr>\n",
       "    <tr>\n",
       "      <th>75%</th>\n",
       "      <td>5.650610e+01</td>\n",
       "    </tr>\n",
       "    <tr>\n",
       "      <th>max</th>\n",
       "      <td>6.870240e+01</td>\n",
       "    </tr>\n",
       "  </tbody>\n",
       "</table>\n",
       "</div>"
      ],
      "text/plain": [
       "             weight\n",
       "count  1.035861e+06\n",
       "mean   5.360558e+01\n",
       "std    9.123796e+00\n",
       "min   -1.480690e-01\n",
       "25%    5.077670e+01\n",
       "50%    5.365740e+01\n",
       "75%    5.650610e+01\n",
       "max    6.870240e+01"
      ]
     },
     "execution_count": 8,
     "metadata": {},
     "output_type": "execute_result"
    }
   ],
   "source": [
    "#Show mean, standard dev, min, max, and IQRs\n",
    "df.describe()"
   ]
  },
  {
   "cell_type": "code",
   "execution_count": 9,
   "id": "73c95e28-32d2-4fcd-8b8e-1e9729db9a9d",
   "metadata": {},
   "outputs": [
    {
     "data": {
      "text/plain": [
       "timestamp    0\n",
       "weight       0\n",
       "dtype: int64"
      ]
     },
     "execution_count": 9,
     "metadata": {},
     "output_type": "execute_result"
    }
   ],
   "source": [
    "#Count blanks or whitespaces\n",
    "df = df.replace(r'\\s+\\t+', np.nan, regex=True).replace('', np.nan)\n",
    "#Is anything null?\n",
    "df.isnull().sum()"
   ]
  },
  {
   "cell_type": "code",
   "execution_count": 10,
   "id": "04660686-43fe-44f0-92c3-7921eab6f24f",
   "metadata": {},
   "outputs": [],
   "source": [
    "#None in this data set!\n",
    "#df[df.isna().any(axis=1)]"
   ]
  },
  {
   "cell_type": "code",
   "execution_count": 11,
   "id": "fb8b8fe8-55d5-40f2-a217-e380bacf435b",
   "metadata": {},
   "outputs": [
    {
     "name": "stdout",
     "output_type": "stream",
     "text": [
      "timestamp 1035741\n",
      "weight 52639\n"
     ]
    }
   ],
   "source": [
    "#How many unique values?\n",
    "for column in df:\n",
    "    print(column, len(df[column].unique()))\n",
    "#Why are there only half as many unique values for timestamps as there are rows"
   ]
  },
  {
   "cell_type": "code",
   "execution_count": 12,
   "id": "57d5999e-4d01-4f97-8c36-d77f8c98f7e8",
   "metadata": {},
   "outputs": [
    {
     "data": {
      "text/plain": [
       "array([[<AxesSubplot:title={'center':'timestamp'}>]], dtype=object)"
      ]
     },
     "execution_count": 12,
     "metadata": {},
     "output_type": "execute_result"
    },
    {
     "data": {
      "image/png": "[encoded data removed]",
      "text/plain": [
       "<Figure size 432x288 with 1 Axes>"
      ]
     },
     "metadata": {
      "needs_background": "light"
     },
     "output_type": "display_data"
    }
   ],
   "source": [
    "#Histogram of timestamps, should be even across the board\n",
    "#Measured every minute\n",
    "import matplotlib.pyplot as plt\n",
    "%matplotlib inline\n",
    "df.hist(column='timestamp')"
   ]
  },
  {
   "cell_type": "code",
   "execution_count": 13,
   "id": "2e0fac04-b6e7-4379-b837-de0dd5f3c7a0",
   "metadata": {},
   "outputs": [
    {
     "data": {
      "text/plain": [
       "array([[<AxesSubplot:title={'center':'weight'}>]], dtype=object)"
      ]
     },
     "execution_count": 13,
     "metadata": {},
     "output_type": "execute_result"
    },
    {
     "data": {
      "image/png": "[encoded data removed]",
      "text/plain": [
       "<Figure size 432x288 with 1 Axes>"
      ]
     },
     "metadata": {
      "needs_background": "light"
     },
     "output_type": "display_data"
    }
   ],
   "source": [
    "#And weight...\n",
    "df.hist(column='weight')"
   ]
  },
  {
   "cell_type": "code",
   "execution_count": 14,
   "id": "6a16603e-c2f2-4162-928c-8ccf316607b0",
   "metadata": {},
   "outputs": [
    {
     "data": {
      "text/html": [
       "<div>\n",
       "<style scoped>\n",
       "    .dataframe tbody tr th:only-of-type {\n",
       "        vertical-align: middle;\n",
       "    }\n",
       "\n",
       "    .dataframe tbody tr th {\n",
       "        vertical-align: top;\n",
       "    }\n",
       "\n",
       "    .dataframe thead th {\n",
       "        text-align: right;\n",
       "    }\n",
       "</style>\n",
       "<table border=\"1\" class=\"dataframe\">\n",
       "  <thead>\n",
       "    <tr style=\"text-align: right;\">\n",
       "      <th></th>\n",
       "      <th>timestamp</th>\n",
       "      <th>weight</th>\n",
       "    </tr>\n",
       "  </thead>\n",
       "  <tbody>\n",
       "    <tr>\n",
       "      <th>115707</th>\n",
       "      <td>2017-03-22 13:42:00</td>\n",
       "      <td>-0.115216</td>\n",
       "    </tr>\n",
       "    <tr>\n",
       "      <th>115708</th>\n",
       "      <td>2017-03-22 13:43:00</td>\n",
       "      <td>-0.115216</td>\n",
       "    </tr>\n",
       "    <tr>\n",
       "      <th>115709</th>\n",
       "      <td>2017-03-22 13:44:00</td>\n",
       "      <td>-0.115216</td>\n",
       "    </tr>\n",
       "    <tr>\n",
       "      <th>185038</th>\n",
       "      <td>2017-05-09 18:13:00</td>\n",
       "      <td>44.951400</td>\n",
       "    </tr>\n",
       "    <tr>\n",
       "      <th>188789</th>\n",
       "      <td>2017-05-12 08:44:00</td>\n",
       "      <td>-0.083207</td>\n",
       "    </tr>\n",
       "    <tr>\n",
       "      <th>...</th>\n",
       "      <td>...</td>\n",
       "      <td>...</td>\n",
       "    </tr>\n",
       "    <tr>\n",
       "      <th>1028476</th>\n",
       "      <td>2019-05-15 10:40:00</td>\n",
       "      <td>-0.051902</td>\n",
       "    </tr>\n",
       "    <tr>\n",
       "      <th>1028477</th>\n",
       "      <td>2019-05-15 10:43:00</td>\n",
       "      <td>-0.051653</td>\n",
       "    </tr>\n",
       "    <tr>\n",
       "      <th>1028478</th>\n",
       "      <td>2019-05-15 10:44:00</td>\n",
       "      <td>-0.051653</td>\n",
       "    </tr>\n",
       "    <tr>\n",
       "      <th>1028479</th>\n",
       "      <td>2019-05-15 10:45:00</td>\n",
       "      <td>-0.051564</td>\n",
       "    </tr>\n",
       "    <tr>\n",
       "      <th>1028480</th>\n",
       "      <td>2019-05-15 10:48:00</td>\n",
       "      <td>-0.051493</td>\n",
       "    </tr>\n",
       "  </tbody>\n",
       "</table>\n",
       "<p>21213 rows × 2 columns</p>\n",
       "</div>"
      ],
      "text/plain": [
       "                  timestamp     weight\n",
       "115707  2017-03-22 13:42:00  -0.115216\n",
       "115708  2017-03-22 13:43:00  -0.115216\n",
       "115709  2017-03-22 13:44:00  -0.115216\n",
       "185038  2017-05-09 18:13:00  44.951400\n",
       "188789  2017-05-12 08:44:00  -0.083207\n",
       "...                     ...        ...\n",
       "1028476 2019-05-15 10:40:00  -0.051902\n",
       "1028477 2019-05-15 10:43:00  -0.051653\n",
       "1028478 2019-05-15 10:44:00  -0.051653\n",
       "1028479 2019-05-15 10:45:00  -0.051564\n",
       "1028480 2019-05-15 10:48:00  -0.051493\n",
       "\n",
       "[21213 rows x 2 columns]"
      ]
     },
     "execution_count": 14,
     "metadata": {},
     "output_type": "execute_result"
    }
   ],
   "source": [
    "#Seems like we have a bunch of outliers this time\n",
    "#Q1 is 50, so let's just drop values that are really low\n",
    "outliers = df.loc[df['weight']<45]\n",
    "outliers"
   ]
  },
  {
   "cell_type": "code",
   "execution_count": 15,
   "id": "4eeffd72-9c13-436d-858d-578e9e28d2a1",
   "metadata": {},
   "outputs": [],
   "source": [
    "#Drop outliers\n",
    "df.drop(df.loc[df['weight']<45].index, inplace = True)"
   ]
  },
  {
   "cell_type": "code",
   "execution_count": 16,
   "id": "dc7c59ea-d7a1-432f-83df-d332c4aae3f1",
   "metadata": {},
   "outputs": [
    {
     "data": {
      "text/plain": [
       "weight    563.2683\n",
       "dtype: float64"
      ]
     },
     "execution_count": 16,
     "metadata": {},
     "output_type": "execute_result"
    }
   ],
   "source": [
    "#Any duplicates?\n",
    "df[df.duplicated()].sum()"
   ]
  },
  {
   "cell_type": "code",
   "execution_count": 17,
   "id": "52fb5c4f-dc90-4b5e-9b67-01c384aee188",
   "metadata": {},
   "outputs": [
    {
     "data": {
      "text/html": [
       "<div>\n",
       "<style scoped>\n",
       "    .dataframe tbody tr th:only-of-type {\n",
       "        vertical-align: middle;\n",
       "    }\n",
       "\n",
       "    .dataframe tbody tr th {\n",
       "        vertical-align: top;\n",
       "    }\n",
       "\n",
       "    .dataframe thead th {\n",
       "        text-align: right;\n",
       "    }\n",
       "</style>\n",
       "<table border=\"1\" class=\"dataframe\">\n",
       "  <thead>\n",
       "    <tr style=\"text-align: right;\">\n",
       "      <th></th>\n",
       "      <th>timestamp</th>\n",
       "      <th>weight</th>\n",
       "    </tr>\n",
       "  </thead>\n",
       "  <tbody>\n",
       "    <tr>\n",
       "      <th>433202</th>\n",
       "      <td>2017-10-29 02:07:00</td>\n",
       "      <td>56.2180</td>\n",
       "    </tr>\n",
       "    <tr>\n",
       "      <th>433214</th>\n",
       "      <td>2017-10-29 02:19:00</td>\n",
       "      <td>56.2180</td>\n",
       "    </tr>\n",
       "    <tr>\n",
       "      <th>433236</th>\n",
       "      <td>2017-10-29 02:41:00</td>\n",
       "      <td>56.2180</td>\n",
       "    </tr>\n",
       "    <tr>\n",
       "      <th>433237</th>\n",
       "      <td>2017-10-29 02:42:00</td>\n",
       "      <td>56.1540</td>\n",
       "    </tr>\n",
       "    <tr>\n",
       "      <th>433246</th>\n",
       "      <td>2017-10-29 02:51:00</td>\n",
       "      <td>56.1540</td>\n",
       "    </tr>\n",
       "    <tr>\n",
       "      <th>433249</th>\n",
       "      <td>2017-10-29 02:54:00</td>\n",
       "      <td>56.2180</td>\n",
       "    </tr>\n",
       "    <tr>\n",
       "      <th>433253</th>\n",
       "      <td>2017-10-29 02:58:00</td>\n",
       "      <td>56.1860</td>\n",
       "    </tr>\n",
       "    <tr>\n",
       "      <th>744837</th>\n",
       "      <td>2018-10-28 02:36:00</td>\n",
       "      <td>56.6341</td>\n",
       "    </tr>\n",
       "    <tr>\n",
       "      <th>744844</th>\n",
       "      <td>2018-10-28 02:43:00</td>\n",
       "      <td>56.6021</td>\n",
       "    </tr>\n",
       "    <tr>\n",
       "      <th>744855</th>\n",
       "      <td>2018-10-28 02:54:00</td>\n",
       "      <td>56.6661</td>\n",
       "    </tr>\n",
       "  </tbody>\n",
       "</table>\n",
       "</div>"
      ],
      "text/plain": [
       "                 timestamp   weight\n",
       "433202 2017-10-29 02:07:00  56.2180\n",
       "433214 2017-10-29 02:19:00  56.2180\n",
       "433236 2017-10-29 02:41:00  56.2180\n",
       "433237 2017-10-29 02:42:00  56.1540\n",
       "433246 2017-10-29 02:51:00  56.1540\n",
       "433249 2017-10-29 02:54:00  56.2180\n",
       "433253 2017-10-29 02:58:00  56.1860\n",
       "744837 2018-10-28 02:36:00  56.6341\n",
       "744844 2018-10-28 02:43:00  56.6021\n",
       "744855 2018-10-28 02:54:00  56.6661"
      ]
     },
     "execution_count": 17,
     "metadata": {},
     "output_type": "execute_result"
    }
   ],
   "source": [
    "#Not sure if we should drop duplicates still\n",
    "df[df.duplicated()]"
   ]
  },
  {
   "cell_type": "code",
   "execution_count": 18,
   "id": "7aafc941-e59f-41dd-92cf-38bab8f2652f",
   "metadata": {},
   "outputs": [
    {
     "data": {
      "text/html": [
       "<div>\n",
       "<style scoped>\n",
       "    .dataframe tbody tr th:only-of-type {\n",
       "        vertical-align: middle;\n",
       "    }\n",
       "\n",
       "    .dataframe tbody tr th {\n",
       "        vertical-align: top;\n",
       "    }\n",
       "\n",
       "    .dataframe thead th {\n",
       "        text-align: right;\n",
       "    }\n",
       "</style>\n",
       "<table border=\"1\" class=\"dataframe\">\n",
       "  <thead>\n",
       "    <tr style=\"text-align: right;\">\n",
       "      <th></th>\n",
       "      <th>weight</th>\n",
       "    </tr>\n",
       "  </thead>\n",
       "  <tbody>\n",
       "    <tr>\n",
       "      <th>count</th>\n",
       "      <td>1.014648e+06</td>\n",
       "    </tr>\n",
       "    <tr>\n",
       "      <th>mean</th>\n",
       "      <td>5.471392e+01</td>\n",
       "    </tr>\n",
       "    <tr>\n",
       "      <th>std</th>\n",
       "      <td>4.937699e+00</td>\n",
       "    </tr>\n",
       "    <tr>\n",
       "      <th>min</th>\n",
       "      <td>4.501540e+01</td>\n",
       "    </tr>\n",
       "    <tr>\n",
       "      <th>25%</th>\n",
       "      <td>5.088870e+01</td>\n",
       "    </tr>\n",
       "    <tr>\n",
       "      <th>50%</th>\n",
       "      <td>5.375340e+01</td>\n",
       "    </tr>\n",
       "    <tr>\n",
       "      <th>75%</th>\n",
       "      <td>5.660210e+01</td>\n",
       "    </tr>\n",
       "    <tr>\n",
       "      <th>max</th>\n",
       "      <td>6.870240e+01</td>\n",
       "    </tr>\n",
       "  </tbody>\n",
       "</table>\n",
       "</div>"
      ],
      "text/plain": [
       "             weight\n",
       "count  1.014648e+06\n",
       "mean   5.471392e+01\n",
       "std    4.937699e+00\n",
       "min    4.501540e+01\n",
       "25%    5.088870e+01\n",
       "50%    5.375340e+01\n",
       "75%    5.660210e+01\n",
       "max    6.870240e+01"
      ]
     },
     "execution_count": 18,
     "metadata": {},
     "output_type": "execute_result"
    }
   ],
   "source": [
    "#Show mean, standard dev, min, max, and IQRs after dropping rows\n",
    "df.describe()"
   ]
  },
  {
   "cell_type": "code",
   "execution_count": 19,
   "id": "3cd3e3a4-fb7d-426c-8631-11ec03f346bb",
   "metadata": {},
   "outputs": [
    {
     "name": "stdout",
     "output_type": "stream",
     "text": [
      "median 53.7534\n",
      "mode 55.7059\n",
      "variance 24.380867339467972\n"
     ]
    }
   ],
   "source": [
    "#Get median, mode, variance\n",
    "print(\"median\", df['weight'].median())\n",
    "print(\"mode\", mode(df['weight']).mode[0])\n",
    "print(\"variance\", df['weight'].var())"
   ]
  },
  {
   "cell_type": "code",
   "execution_count": 20,
   "id": "fbbf0def-8bd2-4253-be88-cd5cfbde2578",
   "metadata": {},
   "outputs": [
    {
     "data": {
      "text/plain": [
       "<AxesSubplot:xlabel='timestamp'>"
      ]
     },
     "execution_count": 20,
     "metadata": {},
     "output_type": "execute_result"
    },
    {
     "data": {
      "image/png": "[encoded data removed]",
      "text/plain": [
       "<Figure size 432x288 with 1 Axes>"
      ]
     },
     "metadata": {
      "needs_background": "light"
     },
     "output_type": "display_data"
    }
   ],
   "source": [
    "df.plot(x=\"timestamp\", y=\"weight\")"
   ]
  },
  {
   "cell_type": "code",
   "execution_count": null,
   "id": "781c6637-7ac9-4e0e-9b36-28fef55d233a",
   "metadata": {},
   "outputs": [],
   "source": []
  }
 ],
 "metadata": {
  "kernelspec": {
   "display_name": "Python 3",
   "language": "python",
   "name": "python3"
  },
  "language_info": {
   "codemirror_mode": {
    "name": "ipython",
    "version": 3
   },
   "file_extension": ".py",
   "mimetype": "text/x-python",
   "name": "python",
   "nbconvert_exporter": "python",
   "pygments_lexer": "ipython3",
   "version": "3.7.4"
  }
 },
 "nbformat": 4,
 "nbformat_minor": 5
}
