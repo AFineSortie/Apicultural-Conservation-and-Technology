{
 "cells": [
  {
   "cell_type": "code",
   "execution_count": 1,
   "id": "dd6f60fb-5079-4120-a7ee-415d7a9cb706",
   "metadata": {},
   "outputs": [],
   "source": [
    "import numpy as np\n",
    "import csv\n",
    "import matplotlib.pyplot as plt\n",
    "from scipy.stats import mode\n",
    "import pandas as pd\n",
    "import seaborn as sns\n",
    "from io import StringIO\n",
    "import requests\n",
    "import json\n",
    "from sklearn.preprocessing import StandardScaler  # For scaling dataset\n",
    "from sklearn.cluster import KMeans, AgglomerativeClustering, AffinityPropagation #For clustering\n",
    "from sklearn.mixture import GaussianMixture\n",
    "%matplotlib inline"
   ]
  },
  {
   "cell_type": "code",
   "execution_count": 2,
   "id": "cdaa6f82-a26f-49fd-97b3-20089e7f92a7",
   "metadata": {},
   "outputs": [
    {
     "data": {
      "text/html": [
       "<div>\n",
       "<style scoped>\n",
       "    .dataframe tbody tr th:only-of-type {\n",
       "        vertical-align: middle;\n",
       "    }\n",
       "\n",
       "    .dataframe tbody tr th {\n",
       "        vertical-align: top;\n",
       "    }\n",
       "\n",
       "    .dataframe thead th {\n",
       "        text-align: right;\n",
       "    }\n",
       "</style>\n",
       "<table border=\"1\" class=\"dataframe\">\n",
       "  <thead>\n",
       "    <tr style=\"text-align: right;\">\n",
       "      <th></th>\n",
       "      <th>timestamp</th>\n",
       "      <th>weight</th>\n",
       "    </tr>\n",
       "  </thead>\n",
       "  <tbody>\n",
       "    <tr>\n",
       "      <th>0</th>\n",
       "      <td>2017-01-01 05:15:00</td>\n",
       "      <td>52.6974</td>\n",
       "    </tr>\n",
       "    <tr>\n",
       "      <th>1</th>\n",
       "      <td>2017-01-01 05:16:00</td>\n",
       "      <td>52.6974</td>\n",
       "    </tr>\n",
       "    <tr>\n",
       "      <th>2</th>\n",
       "      <td>2017-01-01 05:17:00</td>\n",
       "      <td>52.6974</td>\n",
       "    </tr>\n",
       "    <tr>\n",
       "      <th>3</th>\n",
       "      <td>2017-01-01 05:18:00</td>\n",
       "      <td>52.6974</td>\n",
       "    </tr>\n",
       "    <tr>\n",
       "      <th>4</th>\n",
       "      <td>2017-01-01 05:19:00</td>\n",
       "      <td>52.6973</td>\n",
       "    </tr>\n",
       "  </tbody>\n",
       "</table>\n",
       "</div>"
      ],
      "text/plain": [
       "             timestamp   weight\n",
       "0  2017-01-01 05:15:00  52.6974\n",
       "1  2017-01-01 05:16:00  52.6974\n",
       "2  2017-01-01 05:17:00  52.6974\n",
       "3  2017-01-01 05:18:00  52.6974\n",
       "4  2017-01-01 05:19:00  52.6973"
      ]
     },
     "execution_count": 2,
     "metadata": {},
     "output_type": "execute_result"
    }
   ],
   "source": [
    "df = pd.read_csv('Beehive Metrics Dataset/weight_2017.csv')\n",
    "df.head()"
   ]
  },
  {
   "cell_type": "code",
   "execution_count": 3,
   "id": "919e6067-8966-4bca-adee-3df7413adfe5",
   "metadata": {},
   "outputs": [
    {
     "data": {
      "text/plain": [
       "524110"
      ]
     },
     "execution_count": 3,
     "metadata": {},
     "output_type": "execute_result"
    }
   ],
   "source": [
    "#How many rows?\n",
    "len(df.index)"
   ]
  },
  {
   "cell_type": "code",
   "execution_count": 4,
   "id": "0f3be8cd-635a-4c79-9a21-84556925c528",
   "metadata": {},
   "outputs": [
    {
     "name": "stdout",
     "output_type": "stream",
     "text": [
      "<class 'pandas.core.frame.DataFrame'>\n",
      "RangeIndex: 524110 entries, 0 to 524109\n",
      "Data columns (total 2 columns):\n",
      " #   Column     Non-Null Count   Dtype  \n",
      "---  ------     --------------   -----  \n",
      " 0   timestamp  524110 non-null  object \n",
      " 1   weight     524110 non-null  float64\n",
      "dtypes: float64(1), object(1)\n",
      "memory usage: 6.0+ MB\n"
     ]
    }
   ],
   "source": [
    "df.info()"
   ]
  },
  {
   "cell_type": "code",
   "execution_count": 5,
   "id": "47c9fe76-a492-4b15-9907-748562f177bb",
   "metadata": {},
   "outputs": [],
   "source": [
    "#Change the timestamp field to a datetime data type\n",
    "df['timestamp'] = pd.to_datetime(df['timestamp'])"
   ]
  },
  {
   "cell_type": "code",
   "execution_count": 6,
   "id": "e6945c0d-9f1a-4db8-9544-1101c826e519",
   "metadata": {},
   "outputs": [
    {
     "name": "stdout",
     "output_type": "stream",
     "text": [
      "<class 'pandas.core.frame.DataFrame'>\n",
      "RangeIndex: 524110 entries, 0 to 524109\n",
      "Data columns (total 2 columns):\n",
      " #   Column     Non-Null Count   Dtype         \n",
      "---  ------     --------------   -----         \n",
      " 0   timestamp  524110 non-null  datetime64[ns]\n",
      " 1   weight     524110 non-null  float64       \n",
      "dtypes: datetime64[ns](1), float64(1)\n",
      "memory usage: 8.0 MB\n"
     ]
    }
   ],
   "source": [
    "#Print the info again to ensure the data type was changed successfully\n",
    "df.info()"
   ]
  },
  {
   "cell_type": "code",
   "execution_count": 7,
   "id": "767fbf33-df13-45fa-9d87-2496b06c7d06",
   "metadata": {},
   "outputs": [
    {
     "data": {
      "text/html": [
       "<div>\n",
       "<style scoped>\n",
       "    .dataframe tbody tr th:only-of-type {\n",
       "        vertical-align: middle;\n",
       "    }\n",
       "\n",
       "    .dataframe tbody tr th {\n",
       "        vertical-align: top;\n",
       "    }\n",
       "\n",
       "    .dataframe thead th {\n",
       "        text-align: right;\n",
       "    }\n",
       "</style>\n",
       "<table border=\"1\" class=\"dataframe\">\n",
       "  <thead>\n",
       "    <tr style=\"text-align: right;\">\n",
       "      <th></th>\n",
       "      <th>timestamp</th>\n",
       "      <th>weight</th>\n",
       "    </tr>\n",
       "  </thead>\n",
       "  <tbody>\n",
       "    <tr>\n",
       "      <th>0</th>\n",
       "      <td>2017-01-01 05:15:00</td>\n",
       "      <td>52.6974</td>\n",
       "    </tr>\n",
       "    <tr>\n",
       "      <th>1</th>\n",
       "      <td>2017-01-01 05:16:00</td>\n",
       "      <td>52.6974</td>\n",
       "    </tr>\n",
       "    <tr>\n",
       "      <th>2</th>\n",
       "      <td>2017-01-01 05:17:00</td>\n",
       "      <td>52.6974</td>\n",
       "    </tr>\n",
       "    <tr>\n",
       "      <th>3</th>\n",
       "      <td>2017-01-01 05:18:00</td>\n",
       "      <td>52.6974</td>\n",
       "    </tr>\n",
       "    <tr>\n",
       "      <th>4</th>\n",
       "      <td>2017-01-01 05:19:00</td>\n",
       "      <td>52.6973</td>\n",
       "    </tr>\n",
       "  </tbody>\n",
       "</table>\n",
       "</div>"
      ],
      "text/plain": [
       "            timestamp   weight\n",
       "0 2017-01-01 05:15:00  52.6974\n",
       "1 2017-01-01 05:16:00  52.6974\n",
       "2 2017-01-01 05:17:00  52.6974\n",
       "3 2017-01-01 05:18:00  52.6974\n",
       "4 2017-01-01 05:19:00  52.6973"
      ]
     },
     "execution_count": 7,
     "metadata": {},
     "output_type": "execute_result"
    }
   ],
   "source": [
    "#Show some data again to ensure that the timestamps didn't get messed up\n",
    "df.head()"
   ]
  },
  {
   "cell_type": "code",
   "execution_count": 8,
   "id": "9a54ffe2-b3a2-4aad-90ac-3fc8d1aba66a",
   "metadata": {},
   "outputs": [
    {
     "data": {
      "text/html": [
       "<div>\n",
       "<style scoped>\n",
       "    .dataframe tbody tr th:only-of-type {\n",
       "        vertical-align: middle;\n",
       "    }\n",
       "\n",
       "    .dataframe tbody tr th {\n",
       "        vertical-align: top;\n",
       "    }\n",
       "\n",
       "    .dataframe thead th {\n",
       "        text-align: right;\n",
       "    }\n",
       "</style>\n",
       "<table border=\"1\" class=\"dataframe\">\n",
       "  <thead>\n",
       "    <tr style=\"text-align: right;\">\n",
       "      <th></th>\n",
       "      <th>weight</th>\n",
       "    </tr>\n",
       "  </thead>\n",
       "  <tbody>\n",
       "    <tr>\n",
       "      <th>count</th>\n",
       "      <td>524110.000000</td>\n",
       "    </tr>\n",
       "    <tr>\n",
       "      <th>mean</th>\n",
       "      <td>55.949812</td>\n",
       "    </tr>\n",
       "    <tr>\n",
       "      <th>std</th>\n",
       "      <td>6.142653</td>\n",
       "    </tr>\n",
       "    <tr>\n",
       "      <th>min</th>\n",
       "      <td>-0.115216</td>\n",
       "    </tr>\n",
       "    <tr>\n",
       "      <th>25%</th>\n",
       "      <td>50.712700</td>\n",
       "    </tr>\n",
       "    <tr>\n",
       "      <th>50%</th>\n",
       "      <td>55.001700</td>\n",
       "    </tr>\n",
       "    <tr>\n",
       "      <th>75%</th>\n",
       "      <td>59.867400</td>\n",
       "    </tr>\n",
       "    <tr>\n",
       "      <th>max</th>\n",
       "      <td>68.702400</td>\n",
       "    </tr>\n",
       "  </tbody>\n",
       "</table>\n",
       "</div>"
      ],
      "text/plain": [
       "              weight\n",
       "count  524110.000000\n",
       "mean       55.949812\n",
       "std         6.142653\n",
       "min        -0.115216\n",
       "25%        50.712700\n",
       "50%        55.001700\n",
       "75%        59.867400\n",
       "max        68.702400"
      ]
     },
     "execution_count": 8,
     "metadata": {},
     "output_type": "execute_result"
    }
   ],
   "source": [
    "#Show mean, standard dev, min, max, and IQRs\n",
    "df.describe()"
   ]
  },
  {
   "cell_type": "code",
   "execution_count": 9,
   "id": "73c95e28-32d2-4fcd-8b8e-1e9729db9a9d",
   "metadata": {},
   "outputs": [
    {
     "data": {
      "text/plain": [
       "timestamp    0\n",
       "weight       0\n",
       "dtype: int64"
      ]
     },
     "execution_count": 9,
     "metadata": {},
     "output_type": "execute_result"
    }
   ],
   "source": [
    "#Count blanks or whitespaces\n",
    "df = df.replace(r'\\s+\\t+', np.nan, regex=True).replace('', np.nan)\n",
    "#Is anything null?\n",
    "df.isnull().sum()"
   ]
  },
  {
   "cell_type": "code",
   "execution_count": 10,
   "id": "04660686-43fe-44f0-92c3-7921eab6f24f",
   "metadata": {},
   "outputs": [],
   "source": [
    "#None in this data set!\n",
    "#df[df.isna().any(axis=1)]"
   ]
  },
  {
   "cell_type": "code",
   "execution_count": 11,
   "id": "fb8b8fe8-55d5-40f2-a217-e380bacf435b",
   "metadata": {},
   "outputs": [
    {
     "name": "stdout",
     "output_type": "stream",
     "text": [
      "timestamp 524050\n",
      "weight 42469\n"
     ]
    }
   ],
   "source": [
    "#How many unique values?\n",
    "for column in df:\n",
    "    print(column, len(df[column].unique()))\n",
    "#Why are there only half as many unique values for timestamps as there are rows"
   ]
  },
  {
   "cell_type": "code",
   "execution_count": 12,
   "id": "57d5999e-4d01-4f97-8c36-d77f8c98f7e8",
   "metadata": {},
   "outputs": [
    {
     "data": {
      "text/plain": [
       "array([[<AxesSubplot:title={'center':'timestamp'}>]], dtype=object)"
      ]
     },
     "execution_count": 12,
     "metadata": {},
     "output_type": "execute_result"
    },
    {
     "data": {
      "image/png": "[encoded data removed]",
      "text/plain": [
       "<Figure size 432x288 with 1 Axes>"
      ]
     },
     "metadata": {
      "needs_background": "light"
     },
     "output_type": "display_data"
    }
   ],
   "source": [
    "#Histogram of timestamps, should be even across the board\n",
    "#Measured every minute\n",
    "import matplotlib.pyplot as plt\n",
    "%matplotlib inline\n",
    "df.hist(column='timestamp')"
   ]
  },
  {
   "cell_type": "code",
   "execution_count": 13,
   "id": "2e0fac04-b6e7-4379-b837-de0dd5f3c7a0",
   "metadata": {},
   "outputs": [
    {
     "data": {
      "text/plain": [
       "array([[<AxesSubplot:title={'center':'weight'}>]], dtype=object)"
      ]
     },
     "execution_count": 13,
     "metadata": {},
     "output_type": "execute_result"
    },
    {
     "data": {
      "image/png": "[encoded data removed]",
      "text/plain": [
       "<Figure size 432x288 with 1 Axes>"
      ]
     },
     "metadata": {
      "needs_background": "light"
     },
     "output_type": "display_data"
    }
   ],
   "source": [
    "#And weight...\n",
    "df.hist(column='weight')"
   ]
  },
  {
   "cell_type": "code",
   "execution_count": 14,
   "id": "6a16603e-c2f2-4162-928c-8ccf316607b0",
   "metadata": {},
   "outputs": [
    {
     "data": {
      "text/html": [
       "<div>\n",
       "<style scoped>\n",
       "    .dataframe tbody tr th:only-of-type {\n",
       "        vertical-align: middle;\n",
       "    }\n",
       "\n",
       "    .dataframe tbody tr th {\n",
       "        vertical-align: top;\n",
       "    }\n",
       "\n",
       "    .dataframe thead th {\n",
       "        text-align: right;\n",
       "    }\n",
       "</style>\n",
       "<table border=\"1\" class=\"dataframe\">\n",
       "  <thead>\n",
       "    <tr style=\"text-align: right;\">\n",
       "      <th></th>\n",
       "      <th>timestamp</th>\n",
       "      <th>weight</th>\n",
       "    </tr>\n",
       "  </thead>\n",
       "  <tbody>\n",
       "    <tr>\n",
       "      <th>115707</th>\n",
       "      <td>2017-03-22 13:42:00</td>\n",
       "      <td>-0.115216</td>\n",
       "    </tr>\n",
       "    <tr>\n",
       "      <th>115708</th>\n",
       "      <td>2017-03-22 13:43:00</td>\n",
       "      <td>-0.115216</td>\n",
       "    </tr>\n",
       "    <tr>\n",
       "      <th>115709</th>\n",
       "      <td>2017-03-22 13:44:00</td>\n",
       "      <td>-0.115216</td>\n",
       "    </tr>\n",
       "    <tr>\n",
       "      <th>188789</th>\n",
       "      <td>2017-05-12 08:44:00</td>\n",
       "      <td>-0.083207</td>\n",
       "    </tr>\n",
       "    <tr>\n",
       "      <th>188790</th>\n",
       "      <td>2017-05-12 08:45:00</td>\n",
       "      <td>-0.083207</td>\n",
       "    </tr>\n",
       "    <tr>\n",
       "      <th>...</th>\n",
       "      <td>...</td>\n",
       "      <td>...</td>\n",
       "    </tr>\n",
       "    <tr>\n",
       "      <th>407745</th>\n",
       "      <td>2017-10-11 10:50:00</td>\n",
       "      <td>-0.115216</td>\n",
       "    </tr>\n",
       "    <tr>\n",
       "      <th>508766</th>\n",
       "      <td>2017-12-20 13:31:00</td>\n",
       "      <td>-0.115216</td>\n",
       "    </tr>\n",
       "    <tr>\n",
       "      <th>508767</th>\n",
       "      <td>2017-12-20 13:32:00</td>\n",
       "      <td>-0.115216</td>\n",
       "    </tr>\n",
       "    <tr>\n",
       "      <th>508768</th>\n",
       "      <td>2017-12-20 13:33:00</td>\n",
       "      <td>-0.115216</td>\n",
       "    </tr>\n",
       "    <tr>\n",
       "      <th>508769</th>\n",
       "      <td>2017-12-20 13:34:00</td>\n",
       "      <td>-0.115216</td>\n",
       "    </tr>\n",
       "  </tbody>\n",
       "</table>\n",
       "<p>578 rows × 2 columns</p>\n",
       "</div>"
      ],
      "text/plain": [
       "                 timestamp    weight\n",
       "115707 2017-03-22 13:42:00 -0.115216\n",
       "115708 2017-03-22 13:43:00 -0.115216\n",
       "115709 2017-03-22 13:44:00 -0.115216\n",
       "188789 2017-05-12 08:44:00 -0.083207\n",
       "188790 2017-05-12 08:45:00 -0.083207\n",
       "...                    ...       ...\n",
       "407745 2017-10-11 10:50:00 -0.115216\n",
       "508766 2017-12-20 13:31:00 -0.115216\n",
       "508767 2017-12-20 13:32:00 -0.115216\n",
       "508768 2017-12-20 13:33:00 -0.115216\n",
       "508769 2017-12-20 13:34:00 -0.115216\n",
       "\n",
       "[578 rows x 2 columns]"
      ]
     },
     "execution_count": 14,
     "metadata": {},
     "output_type": "execute_result"
    }
   ],
   "source": [
    "#Seems like we have a bunch of outliers this time\n",
    "#Q1 is 50, so let's just drop values that are really low\n",
    "outliers = df.loc[df['weight']<20]\n",
    "outliers"
   ]
  },
  {
   "cell_type": "code",
   "execution_count": 15,
   "id": "4eeffd72-9c13-436d-858d-578e9e28d2a1",
   "metadata": {},
   "outputs": [
    {
     "data": {
      "text/plain": [
       "array([[<AxesSubplot:title={'center':'weight'}>]], dtype=object)"
      ]
     },
     "execution_count": 15,
     "metadata": {},
     "output_type": "execute_result"
    },
    {
     "data": {
      "image/png": "[encoded data removed]",
      "text/plain": [
       "<Figure size 432x288 with 1 Axes>"
      ]
     },
     "metadata": {
      "needs_background": "light"
     },
     "output_type": "display_data"
    }
   ],
   "source": [
    "#We have a lot of them, and some seem to be negative actually. Let's drop them\n",
    "outlierIDs = outliers.index.tolist()\n",
    "for index in outlierIDs:\n",
    "    df = df.drop(index)\n",
    "df.hist(column='weight')"
   ]
  },
  {
   "cell_type": "code",
   "execution_count": 16,
   "id": "dc7c59ea-d7a1-432f-83df-d332c4aae3f1",
   "metadata": {},
   "outputs": [
    {
     "data": {
      "text/plain": [
       "weight    393.366\n",
       "dtype: float64"
      ]
     },
     "execution_count": 16,
     "metadata": {},
     "output_type": "execute_result"
    }
   ],
   "source": [
    "#Any duplicates?\n",
    "df[df.duplicated()].sum()"
   ]
  },
  {
   "cell_type": "code",
   "execution_count": 17,
   "id": "52fb5c4f-dc90-4b5e-9b67-01c384aee188",
   "metadata": {},
   "outputs": [
    {
     "data": {
      "text/html": [
       "<div>\n",
       "<style scoped>\n",
       "    .dataframe tbody tr th:only-of-type {\n",
       "        vertical-align: middle;\n",
       "    }\n",
       "\n",
       "    .dataframe tbody tr th {\n",
       "        vertical-align: top;\n",
       "    }\n",
       "\n",
       "    .dataframe thead th {\n",
       "        text-align: right;\n",
       "    }\n",
       "</style>\n",
       "<table border=\"1\" class=\"dataframe\">\n",
       "  <thead>\n",
       "    <tr style=\"text-align: right;\">\n",
       "      <th></th>\n",
       "      <th>timestamp</th>\n",
       "      <th>weight</th>\n",
       "    </tr>\n",
       "  </thead>\n",
       "  <tbody>\n",
       "    <tr>\n",
       "      <th>433202</th>\n",
       "      <td>2017-10-29 02:07:00</td>\n",
       "      <td>56.218</td>\n",
       "    </tr>\n",
       "    <tr>\n",
       "      <th>433214</th>\n",
       "      <td>2017-10-29 02:19:00</td>\n",
       "      <td>56.218</td>\n",
       "    </tr>\n",
       "    <tr>\n",
       "      <th>433236</th>\n",
       "      <td>2017-10-29 02:41:00</td>\n",
       "      <td>56.218</td>\n",
       "    </tr>\n",
       "    <tr>\n",
       "      <th>433237</th>\n",
       "      <td>2017-10-29 02:42:00</td>\n",
       "      <td>56.154</td>\n",
       "    </tr>\n",
       "    <tr>\n",
       "      <th>433246</th>\n",
       "      <td>2017-10-29 02:51:00</td>\n",
       "      <td>56.154</td>\n",
       "    </tr>\n",
       "    <tr>\n",
       "      <th>433249</th>\n",
       "      <td>2017-10-29 02:54:00</td>\n",
       "      <td>56.218</td>\n",
       "    </tr>\n",
       "    <tr>\n",
       "      <th>433253</th>\n",
       "      <td>2017-10-29 02:58:00</td>\n",
       "      <td>56.186</td>\n",
       "    </tr>\n",
       "  </tbody>\n",
       "</table>\n",
       "</div>"
      ],
      "text/plain": [
       "                 timestamp  weight\n",
       "433202 2017-10-29 02:07:00  56.218\n",
       "433214 2017-10-29 02:19:00  56.218\n",
       "433236 2017-10-29 02:41:00  56.218\n",
       "433237 2017-10-29 02:42:00  56.154\n",
       "433246 2017-10-29 02:51:00  56.154\n",
       "433249 2017-10-29 02:54:00  56.218\n",
       "433253 2017-10-29 02:58:00  56.186"
      ]
     },
     "execution_count": 17,
     "metadata": {},
     "output_type": "execute_result"
    }
   ],
   "source": [
    "#Not sure if we should drop duplicates still\n",
    "df[df.duplicated()]"
   ]
  },
  {
   "cell_type": "code",
   "execution_count": 15,
   "id": "7aafc941-e59f-41dd-92cf-38bab8f2652f",
   "metadata": {},
   "outputs": [
    {
     "data": {
      "text/html": [
       "<div>\n",
       "<style scoped>\n",
       "    .dataframe tbody tr th:only-of-type {\n",
       "        vertical-align: middle;\n",
       "    }\n",
       "\n",
       "    .dataframe tbody tr th {\n",
       "        vertical-align: top;\n",
       "    }\n",
       "\n",
       "    .dataframe thead th {\n",
       "        text-align: right;\n",
       "    }\n",
       "</style>\n",
       "<table border=\"1\" class=\"dataframe\">\n",
       "  <thead>\n",
       "    <tr style=\"text-align: right;\">\n",
       "      <th></th>\n",
       "      <th>weight</th>\n",
       "    </tr>\n",
       "  </thead>\n",
       "  <tbody>\n",
       "    <tr>\n",
       "      <th>count</th>\n",
       "      <td>523454.000000</td>\n",
       "    </tr>\n",
       "    <tr>\n",
       "      <th>mean</th>\n",
       "      <td>56.014759</td>\n",
       "    </tr>\n",
       "    <tr>\n",
       "      <th>std</th>\n",
       "      <td>5.852083</td>\n",
       "    </tr>\n",
       "    <tr>\n",
       "      <th>min</th>\n",
       "      <td>40.502300</td>\n",
       "    </tr>\n",
       "    <tr>\n",
       "      <th>25%</th>\n",
       "      <td>50.712700</td>\n",
       "    </tr>\n",
       "    <tr>\n",
       "      <th>50%</th>\n",
       "      <td>55.001700</td>\n",
       "    </tr>\n",
       "    <tr>\n",
       "      <th>75%</th>\n",
       "      <td>59.868500</td>\n",
       "    </tr>\n",
       "    <tr>\n",
       "      <th>max</th>\n",
       "      <td>68.702400</td>\n",
       "    </tr>\n",
       "  </tbody>\n",
       "</table>\n",
       "</div>"
      ],
      "text/plain": [
       "              weight\n",
       "count  523454.000000\n",
       "mean       56.014759\n",
       "std         5.852083\n",
       "min        40.502300\n",
       "25%        50.712700\n",
       "50%        55.001700\n",
       "75%        59.868500\n",
       "max        68.702400"
      ]
     },
     "execution_count": 15,
     "metadata": {},
     "output_type": "execute_result"
    }
   ],
   "source": [
    "#Show mean, standard dev, min, max, and IQRs after dropping rows\n",
    "df.describe()"
   ]
  },
  {
   "cell_type": "code",
   "execution_count": 18,
   "id": "3cd3e3a4-fb7d-426c-8631-11ec03f346bb",
   "metadata": {},
   "outputs": [
    {
     "name": "stdout",
     "output_type": "stream",
     "text": [
      "median 55.0017\n",
      "mode 48.85630000000001\n",
      "variance 34.307504642021534\n"
     ]
    }
   ],
   "source": [
    "#Get median, mode, variance\n",
    "print(\"median\", df['weight'].median())\n",
    "print(\"mode\", mode(df['weight']).mode[0])\n",
    "print(\"variance\", df['weight'].var())"
   ]
  },
  {
   "cell_type": "code",
   "execution_count": 19,
   "id": "fbbf0def-8bd2-4253-be88-cd5cfbde2578",
   "metadata": {},
   "outputs": [
    {
     "data": {
      "text/html": [
       "<div>\n",
       "<style scoped>\n",
       "    .dataframe tbody tr th:only-of-type {\n",
       "        vertical-align: middle;\n",
       "    }\n",
       "\n",
       "    .dataframe tbody tr th {\n",
       "        vertical-align: top;\n",
       "    }\n",
       "\n",
       "    .dataframe thead th {\n",
       "        text-align: right;\n",
       "    }\n",
       "</style>\n",
       "<table border=\"1\" class=\"dataframe\">\n",
       "  <thead>\n",
       "    <tr style=\"text-align: right;\">\n",
       "      <th></th>\n",
       "      <th>timestamp</th>\n",
       "      <th>weight</th>\n",
       "    </tr>\n",
       "  </thead>\n",
       "  <tbody>\n",
       "    <tr>\n",
       "      <th>0</th>\n",
       "      <td>2017-01-01 05:15:00</td>\n",
       "      <td>52.6974</td>\n",
       "    </tr>\n",
       "    <tr>\n",
       "      <th>1</th>\n",
       "      <td>2017-01-01 05:16:00</td>\n",
       "      <td>52.6974</td>\n",
       "    </tr>\n",
       "    <tr>\n",
       "      <th>2</th>\n",
       "      <td>2017-01-01 05:17:00</td>\n",
       "      <td>52.6974</td>\n",
       "    </tr>\n",
       "    <tr>\n",
       "      <th>3</th>\n",
       "      <td>2017-01-01 05:18:00</td>\n",
       "      <td>52.6974</td>\n",
       "    </tr>\n",
       "    <tr>\n",
       "      <th>4</th>\n",
       "      <td>2017-01-01 05:19:00</td>\n",
       "      <td>52.6973</td>\n",
       "    </tr>\n",
       "    <tr>\n",
       "      <th>...</th>\n",
       "      <td>...</td>\n",
       "      <td>...</td>\n",
       "    </tr>\n",
       "    <tr>\n",
       "      <th>524105</th>\n",
       "      <td>2017-12-31 05:10:00</td>\n",
       "      <td>53.8495</td>\n",
       "    </tr>\n",
       "    <tr>\n",
       "      <th>524106</th>\n",
       "      <td>2017-12-31 05:11:00</td>\n",
       "      <td>53.7214</td>\n",
       "    </tr>\n",
       "    <tr>\n",
       "      <th>524107</th>\n",
       "      <td>2017-12-31 05:12:00</td>\n",
       "      <td>53.6574</td>\n",
       "    </tr>\n",
       "    <tr>\n",
       "      <th>524108</th>\n",
       "      <td>2017-12-31 05:13:00</td>\n",
       "      <td>53.7214</td>\n",
       "    </tr>\n",
       "    <tr>\n",
       "      <th>524109</th>\n",
       "      <td>2017-12-31 05:14:00</td>\n",
       "      <td>53.8175</td>\n",
       "    </tr>\n",
       "  </tbody>\n",
       "</table>\n",
       "<p>523532 rows × 2 columns</p>\n",
       "</div>"
      ],
      "text/plain": [
       "                 timestamp   weight\n",
       "0      2017-01-01 05:15:00  52.6974\n",
       "1      2017-01-01 05:16:00  52.6974\n",
       "2      2017-01-01 05:17:00  52.6974\n",
       "3      2017-01-01 05:18:00  52.6974\n",
       "4      2017-01-01 05:19:00  52.6973\n",
       "...                    ...      ...\n",
       "524105 2017-12-31 05:10:00  53.8495\n",
       "524106 2017-12-31 05:11:00  53.7214\n",
       "524107 2017-12-31 05:12:00  53.6574\n",
       "524108 2017-12-31 05:13:00  53.7214\n",
       "524109 2017-12-31 05:14:00  53.8175\n",
       "\n",
       "[523532 rows x 2 columns]"
      ]
     },
     "execution_count": 19,
     "metadata": {},
     "output_type": "execute_result"
    }
   ],
   "source": []
  },
  {
   "cell_type": "code",
   "execution_count": null,
   "id": "4e37c69d-3189-4cea-b139-c303b2f72782",
   "metadata": {},
   "outputs": [],
   "source": []
  }
 ],
 "metadata": {
  "kernelspec": {
   "display_name": "Python 3",
   "language": "python",
   "name": "python3"
  },
  "language_info": {
   "codemirror_mode": {
    "name": "ipython",
    "version": 3
   },
   "file_extension": ".py",
   "mimetype": "text/x-python",
   "name": "python",
   "nbconvert_exporter": "python",
   "pygments_lexer": "ipython3",
   "version": "3.7.4"
  }
 },
 "nbformat": 4,
 "nbformat_minor": 5
}
