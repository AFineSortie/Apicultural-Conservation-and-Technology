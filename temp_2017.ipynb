{
 "cells": [
  {
   "cell_type": "code",
   "execution_count": 1,
   "id": "3c91ccf0-ebdf-41df-8637-40004bdab79f",
   "metadata": {},
   "outputs": [],
   "source": [
    "import numpy as np\n",
    "import csv\n",
    "import matplotlib.pyplot as plt\n",
    "from scipy.stats import mode\n",
    "import pandas as pd\n",
    "import seaborn as sns\n",
    "from io import StringIO\n",
    "import requests\n",
    "import json\n",
    "from sklearn.preprocessing import StandardScaler  # For scaling dataset\n",
    "from sklearn.cluster import KMeans, AgglomerativeClustering, AffinityPropagation #For clustering\n",
    "from sklearn.mixture import GaussianMixture\n",
    "%matplotlib inline"
   ]
  },
  {
   "cell_type": "code",
   "execution_count": 2,
   "id": "1a919220-4789-4d3e-8ae4-51ca84e135ce",
   "metadata": {},
   "outputs": [
    {
     "data": {
      "text/html": [
       "<div>\n",
       "<style scoped>\n",
       "    .dataframe tbody tr th:only-of-type {\n",
       "        vertical-align: middle;\n",
       "    }\n",
       "\n",
       "    .dataframe tbody tr th {\n",
       "        vertical-align: top;\n",
       "    }\n",
       "\n",
       "    .dataframe thead th {\n",
       "        text-align: right;\n",
       "    }\n",
       "</style>\n",
       "<table border=\"1\" class=\"dataframe\">\n",
       "  <thead>\n",
       "    <tr style=\"text-align: right;\">\n",
       "      <th></th>\n",
       "      <th>timestamp</th>\n",
       "      <th>temperature</th>\n",
       "    </tr>\n",
       "  </thead>\n",
       "  <tbody>\n",
       "    <tr>\n",
       "      <th>0</th>\n",
       "      <td>2017-01-01 05:00:00</td>\n",
       "      <td>-1.911244</td>\n",
       "    </tr>\n",
       "    <tr>\n",
       "      <th>1</th>\n",
       "      <td>2017-01-01 06:00:00</td>\n",
       "      <td>-1.866717</td>\n",
       "    </tr>\n",
       "    <tr>\n",
       "      <th>2</th>\n",
       "      <td>2017-01-01 07:00:00</td>\n",
       "      <td>-2.077833</td>\n",
       "    </tr>\n",
       "    <tr>\n",
       "      <th>3</th>\n",
       "      <td>2017-01-01 08:00:00</td>\n",
       "      <td>-2.327167</td>\n",
       "    </tr>\n",
       "    <tr>\n",
       "      <th>4</th>\n",
       "      <td>2017-01-01 09:00:00</td>\n",
       "      <td>-2.791233</td>\n",
       "    </tr>\n",
       "  </tbody>\n",
       "</table>\n",
       "</div>"
      ],
      "text/plain": [
       "             timestamp  temperature\n",
       "0  2017-01-01 05:00:00    -1.911244\n",
       "1  2017-01-01 06:00:00    -1.866717\n",
       "2  2017-01-01 07:00:00    -2.077833\n",
       "3  2017-01-01 08:00:00    -2.327167\n",
       "4  2017-01-01 09:00:00    -2.791233"
      ]
     },
     "execution_count": 2,
     "metadata": {},
     "output_type": "execute_result"
    }
   ],
   "source": [
    "df = pd.read_csv('Beehive Metrics Dataset/temperature_2017.csv')\n",
    "df.head()"
   ]
  },
  {
   "cell_type": "code",
   "execution_count": 3,
   "id": "15f1d729-c665-4aa7-a482-11eecf713b7f",
   "metadata": {},
   "outputs": [
    {
     "data": {
      "text/plain": [
       "401869"
      ]
     },
     "execution_count": 3,
     "metadata": {},
     "output_type": "execute_result"
    }
   ],
   "source": [
    "#How many rows?\n",
    "len(df.index)"
   ]
  },
  {
   "cell_type": "code",
   "execution_count": 4,
   "id": "7d9fde17-8493-4f45-b894-a91ed28c30db",
   "metadata": {},
   "outputs": [
    {
     "name": "stdout",
     "output_type": "stream",
     "text": [
      "<class 'pandas.core.frame.DataFrame'>\n",
      "RangeIndex: 401869 entries, 0 to 401868\n",
      "Data columns (total 2 columns):\n",
      " #   Column       Non-Null Count   Dtype  \n",
      "---  ------       --------------   -----  \n",
      " 0   timestamp    401869 non-null  object \n",
      " 1   temperature  401866 non-null  float64\n",
      "dtypes: float64(1), object(1)\n",
      "memory usage: 4.6+ MB\n"
     ]
    }
   ],
   "source": [
    "df.info()"
   ]
  },
  {
   "cell_type": "code",
   "execution_count": 5,
   "id": "7d5174e8-7c96-400e-a0d3-80449528b28c",
   "metadata": {},
   "outputs": [],
   "source": [
    "#Change the timestamp field to a datetime data type\n",
    "df['timestamp'] = pd.to_datetime(df['timestamp'])"
   ]
  },
  {
   "cell_type": "code",
   "execution_count": 6,
   "id": "f7244f01-d8b6-4e80-97f2-2cf4e4c827ea",
   "metadata": {},
   "outputs": [
    {
     "name": "stdout",
     "output_type": "stream",
     "text": [
      "<class 'pandas.core.frame.DataFrame'>\n",
      "RangeIndex: 401869 entries, 0 to 401868\n",
      "Data columns (total 2 columns):\n",
      " #   Column       Non-Null Count   Dtype         \n",
      "---  ------       --------------   -----         \n",
      " 0   timestamp    401869 non-null  datetime64[ns]\n",
      " 1   temperature  401866 non-null  float64       \n",
      "dtypes: datetime64[ns](1), float64(1)\n",
      "memory usage: 6.1 MB\n"
     ]
    }
   ],
   "source": [
    "#Print the info again to ensure that the data type was changed\n",
    "df.info()"
   ]
  },
  {
   "cell_type": "code",
   "execution_count": 7,
   "id": "8c209c1a-033b-419b-bbfe-df6bc3fd1ed5",
   "metadata": {},
   "outputs": [
    {
     "data": {
      "text/html": [
       "<div>\n",
       "<style scoped>\n",
       "    .dataframe tbody tr th:only-of-type {\n",
       "        vertical-align: middle;\n",
       "    }\n",
       "\n",
       "    .dataframe tbody tr th {\n",
       "        vertical-align: top;\n",
       "    }\n",
       "\n",
       "    .dataframe thead th {\n",
       "        text-align: right;\n",
       "    }\n",
       "</style>\n",
       "<table border=\"1\" class=\"dataframe\">\n",
       "  <thead>\n",
       "    <tr style=\"text-align: right;\">\n",
       "      <th></th>\n",
       "      <th>timestamp</th>\n",
       "      <th>temperature</th>\n",
       "    </tr>\n",
       "  </thead>\n",
       "  <tbody>\n",
       "    <tr>\n",
       "      <th>0</th>\n",
       "      <td>2017-01-01 05:00:00</td>\n",
       "      <td>-1.911244</td>\n",
       "    </tr>\n",
       "    <tr>\n",
       "      <th>1</th>\n",
       "      <td>2017-01-01 06:00:00</td>\n",
       "      <td>-1.866717</td>\n",
       "    </tr>\n",
       "    <tr>\n",
       "      <th>2</th>\n",
       "      <td>2017-01-01 07:00:00</td>\n",
       "      <td>-2.077833</td>\n",
       "    </tr>\n",
       "    <tr>\n",
       "      <th>3</th>\n",
       "      <td>2017-01-01 08:00:00</td>\n",
       "      <td>-2.327167</td>\n",
       "    </tr>\n",
       "    <tr>\n",
       "      <th>4</th>\n",
       "      <td>2017-01-01 09:00:00</td>\n",
       "      <td>-2.791233</td>\n",
       "    </tr>\n",
       "  </tbody>\n",
       "</table>\n",
       "</div>"
      ],
      "text/plain": [
       "            timestamp  temperature\n",
       "0 2017-01-01 05:00:00    -1.911244\n",
       "1 2017-01-01 06:00:00    -1.866717\n",
       "2 2017-01-01 07:00:00    -2.077833\n",
       "3 2017-01-01 08:00:00    -2.327167\n",
       "4 2017-01-01 09:00:00    -2.791233"
      ]
     },
     "execution_count": 7,
     "metadata": {},
     "output_type": "execute_result"
    }
   ],
   "source": [
    "#Show some data again to ensure that the timestamps didn't get messed up\n",
    "df.head()"
   ]
  },
  {
   "cell_type": "code",
   "execution_count": 8,
   "id": "44f4b0c5-f3d4-4cea-8024-9e203acedb9d",
   "metadata": {},
   "outputs": [
    {
     "data": {
      "text/html": [
       "<div>\n",
       "<style scoped>\n",
       "    .dataframe tbody tr th:only-of-type {\n",
       "        vertical-align: middle;\n",
       "    }\n",
       "\n",
       "    .dataframe tbody tr th {\n",
       "        vertical-align: top;\n",
       "    }\n",
       "\n",
       "    .dataframe thead th {\n",
       "        text-align: right;\n",
       "    }\n",
       "</style>\n",
       "<table border=\"1\" class=\"dataframe\">\n",
       "  <thead>\n",
       "    <tr style=\"text-align: right;\">\n",
       "      <th></th>\n",
       "      <th>temperature</th>\n",
       "    </tr>\n",
       "  </thead>\n",
       "  <tbody>\n",
       "    <tr>\n",
       "      <th>count</th>\n",
       "      <td>401866.000000</td>\n",
       "    </tr>\n",
       "    <tr>\n",
       "      <th>mean</th>\n",
       "      <td>18.480920</td>\n",
       "    </tr>\n",
       "    <tr>\n",
       "      <th>std</th>\n",
       "      <td>11.203866</td>\n",
       "    </tr>\n",
       "    <tr>\n",
       "      <th>min</th>\n",
       "      <td>-227.144909</td>\n",
       "    </tr>\n",
       "    <tr>\n",
       "      <th>25%</th>\n",
       "      <td>9.506000</td>\n",
       "    </tr>\n",
       "    <tr>\n",
       "      <th>50%</th>\n",
       "      <td>17.178833</td>\n",
       "    </tr>\n",
       "    <tr>\n",
       "      <th>75%</th>\n",
       "      <td>28.238500</td>\n",
       "    </tr>\n",
       "    <tr>\n",
       "      <th>max</th>\n",
       "      <td>57.362000</td>\n",
       "    </tr>\n",
       "  </tbody>\n",
       "</table>\n",
       "</div>"
      ],
      "text/plain": [
       "         temperature\n",
       "count  401866.000000\n",
       "mean       18.480920\n",
       "std        11.203866\n",
       "min      -227.144909\n",
       "25%         9.506000\n",
       "50%        17.178833\n",
       "75%        28.238500\n",
       "max        57.362000"
      ]
     },
     "execution_count": 8,
     "metadata": {},
     "output_type": "execute_result"
    }
   ],
   "source": [
    "#Show mean, standard dev, min, max, and IQRs\n",
    "df.describe()"
   ]
  },
  {
   "cell_type": "code",
   "execution_count": 9,
   "id": "40e740d0-297d-421e-8ef4-08d09389446d",
   "metadata": {},
   "outputs": [
    {
     "data": {
      "text/plain": [
       "timestamp      0\n",
       "temperature    3\n",
       "dtype: int64"
      ]
     },
     "execution_count": 9,
     "metadata": {},
     "output_type": "execute_result"
    }
   ],
   "source": [
    "#Count blanks or whitespaces\n",
    "df = df.replace(r'\\s+\\t+', np.nan, regex=True).replace('', np.nan)\n",
    "#Is anything null?\n",
    "df.isnull().sum()"
   ]
  },
  {
   "cell_type": "code",
   "execution_count": 10,
   "id": "c90e8fb0-ad22-4481-8c0d-733de2bcda82",
   "metadata": {},
   "outputs": [
    {
     "data": {
      "text/html": [
       "<div>\n",
       "<style scoped>\n",
       "    .dataframe tbody tr th:only-of-type {\n",
       "        vertical-align: middle;\n",
       "    }\n",
       "\n",
       "    .dataframe tbody tr th {\n",
       "        vertical-align: top;\n",
       "    }\n",
       "\n",
       "    .dataframe thead th {\n",
       "        text-align: right;\n",
       "    }\n",
       "</style>\n",
       "<table border=\"1\" class=\"dataframe\">\n",
       "  <thead>\n",
       "    <tr style=\"text-align: right;\">\n",
       "      <th></th>\n",
       "      <th>timestamp</th>\n",
       "      <th>temperature</th>\n",
       "    </tr>\n",
       "  </thead>\n",
       "  <tbody>\n",
       "    <tr>\n",
       "      <th>43685</th>\n",
       "      <td>2017-01-01 05:10:00</td>\n",
       "      <td>NaN</td>\n",
       "    </tr>\n",
       "    <tr>\n",
       "      <th>192203</th>\n",
       "      <td>2017-01-01 05:10:00</td>\n",
       "      <td>NaN</td>\n",
       "    </tr>\n",
       "    <tr>\n",
       "      <th>297036</th>\n",
       "      <td>2017-01-01 05:10:00</td>\n",
       "      <td>NaN</td>\n",
       "    </tr>\n",
       "  </tbody>\n",
       "</table>\n",
       "</div>"
      ],
      "text/plain": [
       "                 timestamp  temperature\n",
       "43685  2017-01-01 05:10:00          NaN\n",
       "192203 2017-01-01 05:10:00          NaN\n",
       "297036 2017-01-01 05:10:00          NaN"
      ]
     },
     "execution_count": 10,
     "metadata": {},
     "output_type": "execute_result"
    }
   ],
   "source": [
    "#There are a few in this data set, let's see them\n",
    "df[df.isna().any(axis=1)]"
   ]
  },
  {
   "cell_type": "code",
   "execution_count": 11,
   "id": "8905021e-e0ca-4786-b0df-d402c2b5e2f5",
   "metadata": {},
   "outputs": [
    {
     "data": {
      "text/plain": [
       "timestamp      0\n",
       "temperature    0\n",
       "dtype: int64"
      ]
     },
     "execution_count": 11,
     "metadata": {},
     "output_type": "execute_result"
    }
   ],
   "source": [
    "#And remove them\n",
    "df = df.dropna()\n",
    "df.isnull().sum()"
   ]
  },
  {
   "cell_type": "code",
   "execution_count": 12,
   "id": "1c67976e-3d5f-4003-a8ce-bb0310314a4e",
   "metadata": {},
   "outputs": [
    {
     "name": "stdout",
     "output_type": "stream",
     "text": [
      "timestamp 104821\n",
      "temperature 118383\n"
     ]
    }
   ],
   "source": [
    "#How many unique values?\n",
    "for column in df:\n",
    "    print(column, len(df[column].unique()))"
   ]
  },
  {
   "cell_type": "code",
   "execution_count": 13,
   "id": "5a63b4cc-b649-4d9f-95cb-1721e489d8b1",
   "metadata": {},
   "outputs": [
    {
     "data": {
      "text/plain": [
       "array([[<AxesSubplot:title={'center':'timestamp'}>]], dtype=object)"
      ]
     },
     "execution_count": 13,
     "metadata": {},
     "output_type": "execute_result"
    },
    {
     "data": {
      "image/png": "[encoded data removed]",
      "text/plain": [
       "<Figure size 432x288 with 1 Axes>"
      ]
     },
     "metadata": {
      "needs_background": "light"
     },
     "output_type": "display_data"
    }
   ],
   "source": [
    "#Histogram of timestamps, seems like there's a big hole...\n",
    "import matplotlib.pyplot as plt\n",
    "%matplotlib inline\n",
    "df.hist(column='timestamp')"
   ]
  },
  {
   "cell_type": "code",
   "execution_count": 14,
   "id": "e468069d-f9f2-442d-8c5c-74591e6b6446",
   "metadata": {},
   "outputs": [
    {
     "data": {
      "text/plain": [
       "array([[<AxesSubplot:title={'center':'temperature'}>]], dtype=object)"
      ]
     },
     "execution_count": 14,
     "metadata": {},
     "output_type": "execute_result"
    },
    {
     "data": {
      "image/png": "[encoded data removed]",
      "text/plain": [
       "<Figure size 432x288 with 1 Axes>"
      ]
     },
     "metadata": {
      "needs_background": "light"
     },
     "output_type": "display_data"
    }
   ],
   "source": [
    "#And temperature...\n",
    "df.hist(column='temperature')"
   ]
  },
  {
   "cell_type": "code",
   "execution_count": 15,
   "id": "e0915e69-f2d0-4e8b-8ebe-72a67c9c4a5d",
   "metadata": {},
   "outputs": [
    {
     "data": {
      "text/html": [
       "<div>\n",
       "<style scoped>\n",
       "    .dataframe tbody tr th:only-of-type {\n",
       "        vertical-align: middle;\n",
       "    }\n",
       "\n",
       "    .dataframe tbody tr th {\n",
       "        vertical-align: top;\n",
       "    }\n",
       "\n",
       "    .dataframe thead th {\n",
       "        text-align: right;\n",
       "    }\n",
       "</style>\n",
       "<table border=\"1\" class=\"dataframe\">\n",
       "  <thead>\n",
       "    <tr style=\"text-align: right;\">\n",
       "      <th></th>\n",
       "      <th>timestamp</th>\n",
       "      <th>temperature</th>\n",
       "    </tr>\n",
       "  </thead>\n",
       "  <tbody>\n",
       "    <tr>\n",
       "      <th>163499</th>\n",
       "      <td>2017-09-18 10:00:00</td>\n",
       "      <td>-227.144909</td>\n",
       "    </tr>\n",
       "  </tbody>\n",
       "</table>\n",
       "</div>"
      ],
      "text/plain": [
       "                 timestamp  temperature\n",
       "163499 2017-09-18 10:00:00  -227.144909"
      ]
     },
     "execution_count": 15,
     "metadata": {},
     "output_type": "execute_result"
    }
   ],
   "source": [
    "#Seems like we have a wild outlier... can we get it and get rid of it?\n",
    "df.loc[df['temperature']<-50]"
   ]
  },
  {
   "cell_type": "code",
   "execution_count": 16,
   "id": "2a1d4dfd-af62-4d67-b7f1-65abc28287f9",
   "metadata": {},
   "outputs": [
    {
     "data": {
      "text/plain": [
       "array([[<AxesSubplot:title={'center':'temperature'}>]], dtype=object)"
      ]
     },
     "execution_count": 16,
     "metadata": {},
     "output_type": "execute_result"
    },
    {
     "data": {
      "image/png": "[encoded data removed]",
      "text/plain": [
       "<Figure size 432x288 with 1 Axes>"
      ]
     },
     "metadata": {
      "needs_background": "light"
     },
     "output_type": "display_data"
    }
   ],
   "source": [
    "#Looks better!\n",
    "df = df.drop(163499)\n",
    "df.hist(column='temperature')"
   ]
  },
  {
   "cell_type": "code",
   "execution_count": 17,
   "id": "867defc8-bbad-4026-bdb7-563fc56507ab",
   "metadata": {},
   "outputs": [
    {
     "data": {
      "text/plain": [
       "temperature    810.628033\n",
       "dtype: float64"
      ]
     },
     "execution_count": 17,
     "metadata": {},
     "output_type": "execute_result"
    }
   ],
   "source": [
    "#Any duplicates?\n",
    "df[df.duplicated()].sum()"
   ]
  },
  {
   "cell_type": "code",
   "execution_count": 18,
   "id": "4aef1d6b-d621-478d-ba27-ea8d9994a253",
   "metadata": {},
   "outputs": [
    {
     "data": {
      "text/html": [
       "<div>\n",
       "<style scoped>\n",
       "    .dataframe tbody tr th:only-of-type {\n",
       "        vertical-align: middle;\n",
       "    }\n",
       "\n",
       "    .dataframe tbody tr th {\n",
       "        vertical-align: top;\n",
       "    }\n",
       "\n",
       "    .dataframe thead th {\n",
       "        text-align: right;\n",
       "    }\n",
       "</style>\n",
       "<table border=\"1\" class=\"dataframe\">\n",
       "  <thead>\n",
       "    <tr style=\"text-align: right;\">\n",
       "      <th></th>\n",
       "      <th>timestamp</th>\n",
       "      <th>temperature</th>\n",
       "    </tr>\n",
       "  </thead>\n",
       "  <tbody>\n",
       "    <tr>\n",
       "      <th>29488</th>\n",
       "      <td>2017-05-17 19:00:00</td>\n",
       "      <td>34.768500</td>\n",
       "    </tr>\n",
       "    <tr>\n",
       "      <th>161208</th>\n",
       "      <td>2017-06-14 23:00:00</td>\n",
       "      <td>34.774333</td>\n",
       "    </tr>\n",
       "    <tr>\n",
       "      <th>297178</th>\n",
       "      <td>2017-01-01 17:00:00</td>\n",
       "      <td>-1.332000</td>\n",
       "    </tr>\n",
       "    <tr>\n",
       "      <th>297233</th>\n",
       "      <td>2017-01-01 21:35:00</td>\n",
       "      <td>-1.727600</td>\n",
       "    </tr>\n",
       "    <tr>\n",
       "      <th>297564</th>\n",
       "      <td>2017-01-03 01:10:00</td>\n",
       "      <td>0.407800</td>\n",
       "    </tr>\n",
       "    <tr>\n",
       "      <th>...</th>\n",
       "      <td>...</td>\n",
       "      <td>...</td>\n",
       "    </tr>\n",
       "    <tr>\n",
       "      <th>396266</th>\n",
       "      <td>2017-12-11 18:20:00</td>\n",
       "      <td>6.677800</td>\n",
       "    </tr>\n",
       "    <tr>\n",
       "      <th>397151</th>\n",
       "      <td>2017-12-14 20:05:00</td>\n",
       "      <td>4.045800</td>\n",
       "    </tr>\n",
       "    <tr>\n",
       "      <th>397512</th>\n",
       "      <td>2017-12-16 02:10:00</td>\n",
       "      <td>4.334000</td>\n",
       "    </tr>\n",
       "    <tr>\n",
       "      <th>397513</th>\n",
       "      <td>2017-12-16 02:15:00</td>\n",
       "      <td>4.334000</td>\n",
       "    </tr>\n",
       "    <tr>\n",
       "      <th>398266</th>\n",
       "      <td>2017-12-18 17:00:00</td>\n",
       "      <td>3.574600</td>\n",
       "    </tr>\n",
       "  </tbody>\n",
       "</table>\n",
       "<p>83 rows × 2 columns</p>\n",
       "</div>"
      ],
      "text/plain": [
       "                 timestamp  temperature\n",
       "29488  2017-05-17 19:00:00    34.768500\n",
       "161208 2017-06-14 23:00:00    34.774333\n",
       "297178 2017-01-01 17:00:00    -1.332000\n",
       "297233 2017-01-01 21:35:00    -1.727600\n",
       "297564 2017-01-03 01:10:00     0.407800\n",
       "...                    ...          ...\n",
       "396266 2017-12-11 18:20:00     6.677800\n",
       "397151 2017-12-14 20:05:00     4.045800\n",
       "397512 2017-12-16 02:10:00     4.334000\n",
       "397513 2017-12-16 02:15:00     4.334000\n",
       "398266 2017-12-18 17:00:00     3.574600\n",
       "\n",
       "[83 rows x 2 columns]"
      ]
     },
     "execution_count": 18,
     "metadata": {},
     "output_type": "execute_result"
    }
   ],
   "source": [
    "#lOTS!\n",
    "df[df.duplicated()]"
   ]
  },
  {
   "cell_type": "code",
   "execution_count": 19,
   "id": "4ca1fefa-804d-4163-954d-d4d1e6f54906",
   "metadata": {},
   "outputs": [
    {
     "data": {
      "text/html": [
       "<div>\n",
       "<style scoped>\n",
       "    .dataframe tbody tr th:only-of-type {\n",
       "        vertical-align: middle;\n",
       "    }\n",
       "\n",
       "    .dataframe tbody tr th {\n",
       "        vertical-align: top;\n",
       "    }\n",
       "\n",
       "    .dataframe thead th {\n",
       "        text-align: right;\n",
       "    }\n",
       "</style>\n",
       "<table border=\"1\" class=\"dataframe\">\n",
       "  <thead>\n",
       "    <tr style=\"text-align: right;\">\n",
       "      <th></th>\n",
       "      <th>timestamp</th>\n",
       "      <th>min</th>\n",
       "      <th>max</th>\n",
       "      <th>mean</th>\n",
       "    </tr>\n",
       "  </thead>\n",
       "  <tbody>\n",
       "    <tr>\n",
       "      <th>0</th>\n",
       "      <td>2017-01-01 05:00:00</td>\n",
       "      <td>-1.911244</td>\n",
       "      <td>4.505489</td>\n",
       "      <td>1.699496</td>\n",
       "    </tr>\n",
       "    <tr>\n",
       "      <th>1</th>\n",
       "      <td>2017-01-01 06:00:00</td>\n",
       "      <td>-3.370600</td>\n",
       "      <td>4.495117</td>\n",
       "      <td>1.092577</td>\n",
       "    </tr>\n",
       "    <tr>\n",
       "      <th>2</th>\n",
       "      <td>2017-01-01 07:00:00</td>\n",
       "      <td>-3.582800</td>\n",
       "      <td>4.276133</td>\n",
       "      <td>0.964174</td>\n",
       "    </tr>\n",
       "    <tr>\n",
       "      <th>3</th>\n",
       "      <td>2017-01-01 08:00:00</td>\n",
       "      <td>-3.881800</td>\n",
       "      <td>3.711483</td>\n",
       "      <td>0.824071</td>\n",
       "    </tr>\n",
       "    <tr>\n",
       "      <th>4</th>\n",
       "      <td>2017-01-01 09:00:00</td>\n",
       "      <td>-4.742200</td>\n",
       "      <td>3.108950</td>\n",
       "      <td>0.266976</td>\n",
       "    </tr>\n",
       "  </tbody>\n",
       "</table>\n",
       "</div>"
      ],
      "text/plain": [
       "            timestamp       min       max      mean\n",
       "0 2017-01-01 05:00:00 -1.911244  4.505489  1.699496\n",
       "1 2017-01-01 06:00:00 -3.370600  4.495117  1.092577\n",
       "2 2017-01-01 07:00:00 -3.582800  4.276133  0.964174\n",
       "3 2017-01-01 08:00:00 -3.881800  3.711483  0.824071\n",
       "4 2017-01-01 09:00:00 -4.742200  3.108950  0.266976"
      ]
     },
     "execution_count": 19,
     "metadata": {},
     "output_type": "execute_result"
    }
   ],
   "source": [
    "#So we have data values from what seem to be a number of different sensors at the same times, let's combine them\n",
    "#into a min-max-avg for each timestamp\n",
    "timestamps = df['timestamp'].unique()\n",
    "newdf = pd.DataFrame(columns = ['timestamp', 'min', 'max', 'mean'])\n",
    "for datetime in timestamps:\n",
    "    #grab temperatures based on the unique timestamp\n",
    "    temps = df[df.timestamp == datetime]\n",
    "    mintmp = temps['temperature'].min()\n",
    "    maxtmp = temps['temperature'].max()\n",
    "    meantmp = temps['temperature'].mean()\n",
    "    #append to the new dataframe\n",
    "    newdf = newdf.append({'timestamp': datetime, 'min': mintmp, 'max': maxtmp, 'mean': meantmp}, ignore_index = True)\n",
    "    \n",
    "newdf.head()"
   ]
  },
  {
   "cell_type": "code",
   "execution_count": null,
   "id": "fba7be90-3fdc-4f73-a233-00ac6283be13",
   "metadata": {},
   "outputs": [],
   "source": [
    "#Save the new dataframe to a csv for later use\n",
    "#newdf.to_csv('new_temp_2017.csv')"
   ]
  },
  {
   "cell_type": "code",
   "execution_count": 22,
   "id": "5d34cb74-ebd9-4499-864d-7da26f27831b",
   "metadata": {},
   "outputs": [
    {
     "data": {
      "text/plain": [
       "array([[<AxesSubplot:title={'center':'mean'}>]], dtype=object)"
      ]
     },
     "execution_count": 22,
     "metadata": {},
     "output_type": "execute_result"
    },
    {
     "data": {
      "image/png": "[encoded data removed]",
      "text/plain": [
       "<Figure size 432x288 with 1 Axes>"
      ]
     },
     "metadata": {
      "needs_background": "light"
     },
     "output_type": "display_data"
    }
   ],
   "source": [
    "#Let's see some histograms of the new dataframe\n",
    "newdf.hist(column='mean')"
   ]
  },
  {
   "cell_type": "code",
   "execution_count": 23,
   "id": "c58fd33a-1d0c-4c8b-868f-e59ee60df770",
   "metadata": {},
   "outputs": [
    {
     "data": {
      "text/plain": [
       "array([[<AxesSubplot:title={'center':'max'}>]], dtype=object)"
      ]
     },
     "execution_count": 23,
     "metadata": {},
     "output_type": "execute_result"
    },
    {
     "data": {
      "image/png": "[encoded data removed]",
      "text/plain": [
       "<Figure size 432x288 with 1 Axes>"
      ]
     },
     "metadata": {
      "needs_background": "light"
     },
     "output_type": "display_data"
    },
    {
     "data": {
      "image/png": "[encoded data removed]",
      "text/plain": [
       "<Figure size 432x288 with 1 Axes>"
      ]
     },
     "metadata": {
      "needs_background": "light"
     },
     "output_type": "display_data"
    }
   ],
   "source": [
    "newdf.hist(column='min')\n",
    "newdf.hist(column='max')"
   ]
  },
  {
   "cell_type": "code",
   "execution_count": 24,
   "id": "e89a4665-f5e3-4804-9d35-734a2d8598ed",
   "metadata": {},
   "outputs": [
    {
     "data": {
      "text/html": [
       "<div>\n",
       "<style scoped>\n",
       "    .dataframe tbody tr th:only-of-type {\n",
       "        vertical-align: middle;\n",
       "    }\n",
       "\n",
       "    .dataframe tbody tr th {\n",
       "        vertical-align: top;\n",
       "    }\n",
       "\n",
       "    .dataframe thead th {\n",
       "        text-align: right;\n",
       "    }\n",
       "</style>\n",
       "<table border=\"1\" class=\"dataframe\">\n",
       "  <thead>\n",
       "    <tr style=\"text-align: right;\">\n",
       "      <th></th>\n",
       "      <th>min</th>\n",
       "      <th>max</th>\n",
       "      <th>mean</th>\n",
       "    </tr>\n",
       "  </thead>\n",
       "  <tbody>\n",
       "    <tr>\n",
       "      <th>count</th>\n",
       "      <td>104821.000000</td>\n",
       "      <td>104821.000000</td>\n",
       "      <td>104821.000000</td>\n",
       "    </tr>\n",
       "    <tr>\n",
       "      <th>mean</th>\n",
       "      <td>12.802953</td>\n",
       "      <td>25.886408</td>\n",
       "      <td>17.824496</td>\n",
       "    </tr>\n",
       "    <tr>\n",
       "      <th>std</th>\n",
       "      <td>8.472256</td>\n",
       "      <td>10.502566</td>\n",
       "      <td>9.016849</td>\n",
       "    </tr>\n",
       "    <tr>\n",
       "      <th>min</th>\n",
       "      <td>-10.072000</td>\n",
       "      <td>-0.740800</td>\n",
       "      <td>-5.983067</td>\n",
       "    </tr>\n",
       "    <tr>\n",
       "      <th>25%</th>\n",
       "      <td>6.006200</td>\n",
       "      <td>15.736000</td>\n",
       "      <td>9.939600</td>\n",
       "    </tr>\n",
       "    <tr>\n",
       "      <th>50%</th>\n",
       "      <td>12.606000</td>\n",
       "      <td>31.880000</td>\n",
       "      <td>19.113333</td>\n",
       "    </tr>\n",
       "    <tr>\n",
       "      <th>75%</th>\n",
       "      <td>19.520000</td>\n",
       "      <td>34.934000</td>\n",
       "      <td>25.272000</td>\n",
       "    </tr>\n",
       "    <tr>\n",
       "      <th>max</th>\n",
       "      <td>35.320000</td>\n",
       "      <td>57.362000</td>\n",
       "      <td>42.362667</td>\n",
       "    </tr>\n",
       "  </tbody>\n",
       "</table>\n",
       "</div>"
      ],
      "text/plain": [
       "                 min            max           mean\n",
       "count  104821.000000  104821.000000  104821.000000\n",
       "mean       12.802953      25.886408      17.824496\n",
       "std         8.472256      10.502566       9.016849\n",
       "min       -10.072000      -0.740800      -5.983067\n",
       "25%         6.006200      15.736000       9.939600\n",
       "50%        12.606000      31.880000      19.113333\n",
       "75%        19.520000      34.934000      25.272000\n",
       "max        35.320000      57.362000      42.362667"
      ]
     },
     "execution_count": 24,
     "metadata": {},
     "output_type": "execute_result"
    }
   ],
   "source": [
    "#Show mean, standard dev, min, max, and IQRs after dropping rows\n",
    "newdf.describe()"
   ]
  },
  {
   "cell_type": "code",
   "execution_count": 21,
   "id": "3ab22f85-1ee3-4db6-8854-e09e1fa55712",
   "metadata": {},
   "outputs": [
    {
     "name": "stdout",
     "output_type": "stream",
     "text": [
      "median 17.17966666666666\n",
      "mode 35.044000000000004\n",
      "variance 125.37678567839768\n"
     ]
    }
   ],
   "source": [
    "#Get median, mode, variance\n",
    "print(\"median\", df['temperature'].median())\n",
    "print(\"mode\", mode(df['temperature']).mode[0])\n",
    "print(\"variance\", df['temperature'].var())"
   ]
  },
  {
   "cell_type": "code",
   "execution_count": null,
   "id": "c8b2b0d1-e1d9-4aea-8cb6-695d8e7dd006",
   "metadata": {},
   "outputs": [],
   "source": []
  }
 ],
 "metadata": {
  "kernelspec": {
   "display_name": "Python 3",
   "language": "python",
   "name": "python3"
  },
  "language_info": {
   "codemirror_mode": {
    "name": "ipython",
    "version": 3
   },
   "file_extension": ".py",
   "mimetype": "text/x-python",
   "name": "python",
   "nbconvert_exporter": "python",
   "pygments_lexer": "ipython3",
   "version": "3.7.4"
  }
 },
 "nbformat": 4,
 "nbformat_minor": 5
}
