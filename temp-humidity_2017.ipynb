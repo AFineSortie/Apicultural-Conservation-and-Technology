{
 "cells": [
  {
   "cell_type": "code",
   "execution_count": 1,
   "id": "95e58ef1-b28e-4e8f-9775-85c48b01aee1",
   "metadata": {},
   "outputs": [],
   "source": [
    "import numpy as np\n",
    "import csv\n",
    "import matplotlib.pyplot as plt\n",
    "from scipy.stats import mode\n",
    "import pandas as pd\n",
    "import seaborn as sns\n",
    "from io import StringIO\n",
    "import requests\n",
    "import json\n",
    "from sklearn.preprocessing import StandardScaler  # For scaling dataset\n",
    "from sklearn.cluster import KMeans, AgglomerativeClustering, AffinityPropagation #For clustering\n",
    "from sklearn.mixture import GaussianMixture\n",
    "%matplotlib inline"
   ]
  },
  {
   "cell_type": "code",
   "execution_count": 2,
   "id": "a3a0c0f7-9a02-4b68-83ab-ebd0c0c1ad27",
   "metadata": {},
   "outputs": [
    {
     "data": {
      "text/html": [
       "<div>\n",
       "<style scoped>\n",
       "    .dataframe tbody tr th:only-of-type {\n",
       "        vertical-align: middle;\n",
       "    }\n",
       "\n",
       "    .dataframe tbody tr th {\n",
       "        vertical-align: top;\n",
       "    }\n",
       "\n",
       "    .dataframe thead th {\n",
       "        text-align: right;\n",
       "    }\n",
       "</style>\n",
       "<table border=\"1\" class=\"dataframe\">\n",
       "  <thead>\n",
       "    <tr style=\"text-align: right;\">\n",
       "      <th></th>\n",
       "      <th>timestamp</th>\n",
       "      <th>temperature</th>\n",
       "    </tr>\n",
       "  </thead>\n",
       "  <tbody>\n",
       "    <tr>\n",
       "      <th>0</th>\n",
       "      <td>2017-01-01 05:00:00</td>\n",
       "      <td>-1.911244</td>\n",
       "    </tr>\n",
       "    <tr>\n",
       "      <th>1</th>\n",
       "      <td>2017-01-01 06:00:00</td>\n",
       "      <td>-1.866717</td>\n",
       "    </tr>\n",
       "    <tr>\n",
       "      <th>2</th>\n",
       "      <td>2017-01-01 07:00:00</td>\n",
       "      <td>-2.077833</td>\n",
       "    </tr>\n",
       "    <tr>\n",
       "      <th>3</th>\n",
       "      <td>2017-01-01 08:00:00</td>\n",
       "      <td>-2.327167</td>\n",
       "    </tr>\n",
       "    <tr>\n",
       "      <th>4</th>\n",
       "      <td>2017-01-01 09:00:00</td>\n",
       "      <td>-2.791233</td>\n",
       "    </tr>\n",
       "  </tbody>\n",
       "</table>\n",
       "</div>"
      ],
      "text/plain": [
       "             timestamp  temperature\n",
       "0  2017-01-01 05:00:00    -1.911244\n",
       "1  2017-01-01 06:00:00    -1.866717\n",
       "2  2017-01-01 07:00:00    -2.077833\n",
       "3  2017-01-01 08:00:00    -2.327167\n",
       "4  2017-01-01 09:00:00    -2.791233"
      ]
     },
     "execution_count": 2,
     "metadata": {},
     "output_type": "execute_result"
    }
   ],
   "source": [
    "tmp = pd.read_csv('Beehive Metrics Dataset/temperature_2017.csv')\n",
    "tmp.head()"
   ]
  },
  {
   "cell_type": "code",
   "execution_count": 3,
   "id": "7daf3bd7-7330-4599-8c85-069f62edfeca",
   "metadata": {},
   "outputs": [
    {
     "data": {
      "text/html": [
       "<div>\n",
       "<style scoped>\n",
       "    .dataframe tbody tr th:only-of-type {\n",
       "        vertical-align: middle;\n",
       "    }\n",
       "\n",
       "    .dataframe tbody tr th {\n",
       "        vertical-align: top;\n",
       "    }\n",
       "\n",
       "    .dataframe thead th {\n",
       "        text-align: right;\n",
       "    }\n",
       "</style>\n",
       "<table border=\"1\" class=\"dataframe\">\n",
       "  <thead>\n",
       "    <tr style=\"text-align: right;\">\n",
       "      <th></th>\n",
       "      <th>timestamp</th>\n",
       "      <th>humidity</th>\n",
       "    </tr>\n",
       "  </thead>\n",
       "  <tbody>\n",
       "    <tr>\n",
       "      <th>0</th>\n",
       "      <td>2017-01-01 05:00:00</td>\n",
       "      <td>92.406667</td>\n",
       "    </tr>\n",
       "    <tr>\n",
       "      <th>1</th>\n",
       "      <td>2017-01-01 06:00:00</td>\n",
       "      <td>92.270000</td>\n",
       "    </tr>\n",
       "    <tr>\n",
       "      <th>2</th>\n",
       "      <td>2017-01-01 07:00:00</td>\n",
       "      <td>92.575000</td>\n",
       "    </tr>\n",
       "    <tr>\n",
       "      <th>3</th>\n",
       "      <td>2017-01-01 08:00:00</td>\n",
       "      <td>92.840000</td>\n",
       "    </tr>\n",
       "    <tr>\n",
       "      <th>4</th>\n",
       "      <td>2017-01-01 09:00:00</td>\n",
       "      <td>93.640000</td>\n",
       "    </tr>\n",
       "  </tbody>\n",
       "</table>\n",
       "</div>"
      ],
      "text/plain": [
       "             timestamp   humidity\n",
       "0  2017-01-01 05:00:00  92.406667\n",
       "1  2017-01-01 06:00:00  92.270000\n",
       "2  2017-01-01 07:00:00  92.575000\n",
       "3  2017-01-01 08:00:00  92.840000\n",
       "4  2017-01-01 09:00:00  93.640000"
      ]
     },
     "execution_count": 3,
     "metadata": {},
     "output_type": "execute_result"
    }
   ],
   "source": [
    "hum = pd.read_csv('Beehive Metrics Dataset/humidity_2017.csv')\n",
    "hum.head()"
   ]
  },
  {
   "cell_type": "code",
   "execution_count": 4,
   "id": "5624d5cd-303e-447f-b533-51a63f6de5af",
   "metadata": {},
   "outputs": [],
   "source": [
    "#Change the timestamp fields to the datetime data type\n",
    "tmp['timestamp'] = pd.to_datetime(tmp['timestamp'])\n",
    "hum['timestamp'] = pd.to_datetime(hum['timestamp'])"
   ]
  },
  {
   "cell_type": "code",
   "execution_count": 5,
   "id": "77fd737a-ce3f-4470-8601-ea350f7662c5",
   "metadata": {},
   "outputs": [
    {
     "name": "stdout",
     "output_type": "stream",
     "text": [
      "<class 'pandas.core.frame.DataFrame'>\n",
      "RangeIndex: 401869 entries, 0 to 401868\n",
      "Data columns (total 2 columns):\n",
      " #   Column       Non-Null Count   Dtype         \n",
      "---  ------       --------------   -----         \n",
      " 0   timestamp    401869 non-null  datetime64[ns]\n",
      " 1   temperature  401866 non-null  float64       \n",
      "dtypes: datetime64[ns](1), float64(1)\n",
      "memory usage: 6.1 MB\n",
      "<class 'pandas.core.frame.DataFrame'>\n",
      "RangeIndex: 8737 entries, 0 to 8736\n",
      "Data columns (total 2 columns):\n",
      " #   Column     Non-Null Count  Dtype         \n",
      "---  ------     --------------  -----         \n",
      " 0   timestamp  8737 non-null   datetime64[ns]\n",
      " 1   humidity   8737 non-null   float64       \n",
      "dtypes: datetime64[ns](1), float64(1)\n",
      "memory usage: 136.6 KB\n"
     ]
    }
   ],
   "source": [
    "#Check the datatypes\n",
    "tmp.info()\n",
    "hum.info()"
   ]
  },
  {
   "cell_type": "code",
   "execution_count": 6,
   "id": "afd54b15-e26e-4cc2-9690-10a3a6863e56",
   "metadata": {},
   "outputs": [
    {
     "data": {
      "text/plain": [
       "timestamp      0\n",
       "temperature    3\n",
       "dtype: int64"
      ]
     },
     "execution_count": 6,
     "metadata": {},
     "output_type": "execute_result"
    }
   ],
   "source": [
    "#Count blanks or whitespaces\n",
    "tmp = tmp.replace(r'\\s+\\t+', np.nan, regex=True).replace('', np.nan)\n",
    "#Is anything null?\n",
    "tmp.isnull().sum()"
   ]
  },
  {
   "cell_type": "code",
   "execution_count": 7,
   "id": "1e6c48bc-10f4-4f9c-b00b-76285b5e606c",
   "metadata": {},
   "outputs": [
    {
     "data": {
      "text/plain": [
       "timestamp    0\n",
       "humidity     0\n",
       "dtype: int64"
      ]
     },
     "execution_count": 7,
     "metadata": {},
     "output_type": "execute_result"
    }
   ],
   "source": [
    "hum = hum.replace(r'\\s+\\t+', np.nan, regex=True).replace('', np.nan)\n",
    "hum.isnull().sum()"
   ]
  },
  {
   "cell_type": "code",
   "execution_count": 8,
   "id": "aa6c28a1-c40a-42c1-a453-24ca06f2a6c9",
   "metadata": {},
   "outputs": [],
   "source": [
    "#Remove what we need to from tmp\n",
    "tmp = tmp.drop([163499])\n",
    "#Remove what we need to from hum\n",
    "hum = hum.drop([3006, 3007])\n",
    "#Drop nulls as well\n",
    "tmp = tmp.dropna()"
   ]
  },
  {
   "cell_type": "code",
   "execution_count": 9,
   "id": "2c4dc25a-e1f1-4396-97b4-e6ce7a3482d0",
   "metadata": {},
   "outputs": [
    {
     "data": {
      "text/plain": [
       "timestamp      0\n",
       "temperature    0\n",
       "dtype: int64"
      ]
     },
     "execution_count": 9,
     "metadata": {},
     "output_type": "execute_result"
    }
   ],
   "source": [
    "tmp.isnull().sum()"
   ]
  },
  {
   "cell_type": "code",
   "execution_count": 12,
   "id": "5391aaf5-1a08-4666-8ae6-228cecd518a4",
   "metadata": {},
   "outputs": [
    {
     "data": {
      "text/plain": [
       "timestamp      0\n",
       "humidity       0\n",
       "temperature    0\n",
       "dtype: int64"
      ]
     },
     "execution_count": 12,
     "metadata": {},
     "output_type": "execute_result"
    }
   ],
   "source": []
  },
  {
   "cell_type": "code",
   "execution_count": 13,
   "id": "bb559b78-6ed6-47f3-81ad-9617155f4f58",
   "metadata": {},
   "outputs": [
    {
     "data": {
      "text/html": [
       "<div>\n",
       "<style scoped>\n",
       "    .dataframe tbody tr th:only-of-type {\n",
       "        vertical-align: middle;\n",
       "    }\n",
       "\n",
       "    .dataframe tbody tr th {\n",
       "        vertical-align: top;\n",
       "    }\n",
       "\n",
       "    .dataframe thead th {\n",
       "        text-align: right;\n",
       "    }\n",
       "</style>\n",
       "<table border=\"1\" class=\"dataframe\">\n",
       "  <thead>\n",
       "    <tr style=\"text-align: right;\">\n",
       "      <th></th>\n",
       "      <th>timestamp</th>\n",
       "      <th>humidity</th>\n",
       "      <th>temperature</th>\n",
       "    </tr>\n",
       "  </thead>\n",
       "  <tbody>\n",
       "    <tr>\n",
       "      <th>0</th>\n",
       "      <td>2017-01-01 05:00:00</td>\n",
       "      <td>92.406667</td>\n",
       "      <td>-1.911244</td>\n",
       "    </tr>\n",
       "    <tr>\n",
       "      <th>1</th>\n",
       "      <td>2017-01-01 05:00:00</td>\n",
       "      <td>92.406667</td>\n",
       "      <td>-0.268978</td>\n",
       "    </tr>\n",
       "    <tr>\n",
       "      <th>2</th>\n",
       "      <td>2017-01-01 05:00:00</td>\n",
       "      <td>92.406667</td>\n",
       "      <td>0.553844</td>\n",
       "    </tr>\n",
       "    <tr>\n",
       "      <th>3</th>\n",
       "      <td>2017-01-01 05:00:00</td>\n",
       "      <td>92.406667</td>\n",
       "      <td>3.427489</td>\n",
       "    </tr>\n",
       "    <tr>\n",
       "      <th>4</th>\n",
       "      <td>2017-01-01 05:00:00</td>\n",
       "      <td>92.406667</td>\n",
       "      <td>2.186400</td>\n",
       "    </tr>\n",
       "    <tr>\n",
       "      <th>5</th>\n",
       "      <td>2017-01-01 05:00:00</td>\n",
       "      <td>92.406667</td>\n",
       "      <td>2.848156</td>\n",
       "    </tr>\n",
       "    <tr>\n",
       "      <th>6</th>\n",
       "      <td>2017-01-01 05:00:00</td>\n",
       "      <td>92.406667</td>\n",
       "      <td>4.505489</td>\n",
       "    </tr>\n",
       "    <tr>\n",
       "      <th>7</th>\n",
       "      <td>2017-01-01 05:00:00</td>\n",
       "      <td>92.406667</td>\n",
       "      <td>1.364311</td>\n",
       "    </tr>\n",
       "    <tr>\n",
       "      <th>8</th>\n",
       "      <td>2017-01-01 05:00:00</td>\n",
       "      <td>92.406667</td>\n",
       "      <td>3.199022</td>\n",
       "    </tr>\n",
       "    <tr>\n",
       "      <th>9</th>\n",
       "      <td>2017-01-01 05:00:00</td>\n",
       "      <td>92.406667</td>\n",
       "      <td>1.090467</td>\n",
       "    </tr>\n",
       "    <tr>\n",
       "      <th>10</th>\n",
       "      <td>2017-01-01 06:00:00</td>\n",
       "      <td>92.270000</td>\n",
       "      <td>-1.866717</td>\n",
       "    </tr>\n",
       "    <tr>\n",
       "      <th>11</th>\n",
       "      <td>2017-01-01 06:00:00</td>\n",
       "      <td>92.270000</td>\n",
       "      <td>-0.278550</td>\n",
       "    </tr>\n",
       "    <tr>\n",
       "      <th>12</th>\n",
       "      <td>2017-01-01 06:00:00</td>\n",
       "      <td>92.270000</td>\n",
       "      <td>0.509700</td>\n",
       "    </tr>\n",
       "    <tr>\n",
       "      <th>13</th>\n",
       "      <td>2017-01-01 06:00:00</td>\n",
       "      <td>92.270000</td>\n",
       "      <td>3.352567</td>\n",
       "    </tr>\n",
       "    <tr>\n",
       "      <th>14</th>\n",
       "      <td>2017-01-01 06:00:00</td>\n",
       "      <td>92.270000</td>\n",
       "      <td>2.162150</td>\n",
       "    </tr>\n",
       "    <tr>\n",
       "      <th>15</th>\n",
       "      <td>2017-01-01 06:00:00</td>\n",
       "      <td>92.270000</td>\n",
       "      <td>2.770200</td>\n",
       "    </tr>\n",
       "    <tr>\n",
       "      <th>16</th>\n",
       "      <td>2017-01-01 06:00:00</td>\n",
       "      <td>92.270000</td>\n",
       "      <td>3.013883</td>\n",
       "    </tr>\n",
       "    <tr>\n",
       "      <th>17</th>\n",
       "      <td>2017-01-01 06:00:00</td>\n",
       "      <td>92.270000</td>\n",
       "      <td>4.495117</td>\n",
       "    </tr>\n",
       "    <tr>\n",
       "      <th>18</th>\n",
       "      <td>2017-01-01 06:00:00</td>\n",
       "      <td>92.270000</td>\n",
       "      <td>1.716817</td>\n",
       "    </tr>\n",
       "    <tr>\n",
       "      <th>19</th>\n",
       "      <td>2017-01-01 06:00:00</td>\n",
       "      <td>92.270000</td>\n",
       "      <td>3.184883</td>\n",
       "    </tr>\n",
       "  </tbody>\n",
       "</table>\n",
       "</div>"
      ],
      "text/plain": [
       "             timestamp   humidity  temperature\n",
       "0  2017-01-01 05:00:00  92.406667    -1.911244\n",
       "1  2017-01-01 05:00:00  92.406667    -0.268978\n",
       "2  2017-01-01 05:00:00  92.406667     0.553844\n",
       "3  2017-01-01 05:00:00  92.406667     3.427489\n",
       "4  2017-01-01 05:00:00  92.406667     2.186400\n",
       "5  2017-01-01 05:00:00  92.406667     2.848156\n",
       "6  2017-01-01 05:00:00  92.406667     4.505489\n",
       "7  2017-01-01 05:00:00  92.406667     1.364311\n",
       "8  2017-01-01 05:00:00  92.406667     3.199022\n",
       "9  2017-01-01 05:00:00  92.406667     1.090467\n",
       "10 2017-01-01 06:00:00  92.270000    -1.866717\n",
       "11 2017-01-01 06:00:00  92.270000    -0.278550\n",
       "12 2017-01-01 06:00:00  92.270000     0.509700\n",
       "13 2017-01-01 06:00:00  92.270000     3.352567\n",
       "14 2017-01-01 06:00:00  92.270000     2.162150\n",
       "15 2017-01-01 06:00:00  92.270000     2.770200\n",
       "16 2017-01-01 06:00:00  92.270000     3.013883\n",
       "17 2017-01-01 06:00:00  92.270000     4.495117\n",
       "18 2017-01-01 06:00:00  92.270000     1.716817\n",
       "19 2017-01-01 06:00:00  92.270000     3.184883"
      ]
     },
     "execution_count": 13,
     "metadata": {},
     "output_type": "execute_result"
    }
   ],
   "source": [
    "#Merge the two together,this is going to give us a bunch of nulls since the temp readings become more frequent\n",
    "df = hum.merge(tmp, how='left', on='timestamp')\n",
    "df.head(20)"
   ]
  },
  {
   "cell_type": "code",
   "execution_count": null,
   "id": "a5757a39-d69f-4d78-ae9a-52bb6d683d03",
   "metadata": {},
   "outputs": [],
   "source": []
  }
 ],
 "metadata": {
  "kernelspec": {
   "display_name": "Python 3",
   "language": "python",
   "name": "python3"
  },
  "language_info": {
   "codemirror_mode": {
    "name": "ipython",
    "version": 3
   },
   "file_extension": ".py",
   "mimetype": "text/x-python",
   "name": "python",
   "nbconvert_exporter": "python",
   "pygments_lexer": "ipython3",
   "version": "3.7.4"
  }
 },
 "nbformat": 4,
 "nbformat_minor": 5
}
